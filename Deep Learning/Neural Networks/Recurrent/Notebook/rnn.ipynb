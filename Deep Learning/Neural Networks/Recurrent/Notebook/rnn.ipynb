{
 "cells": [
  {
   "cell_type": "markdown",
   "metadata": {},
   "source": [
    "# Recurrent Neural Network"
   ]
  },
  {
   "cell_type": "markdown",
   "metadata": {},
   "source": [
    "This notebook will demonstrate a step-by-step understanding of a Recurrent Neural Network (RNN). In particular, we will be focussing on the implementation of a RNN in **PyTorch** for classification and regression tasks."
   ]
  },
  {
   "cell_type": "markdown",
   "metadata": {},
   "source": [
    "## Intuition (Visual)"
   ]
  },
  {
   "cell_type": "markdown",
   "metadata": {},
   "source": [
    "<div>\n",
    "<img src=\"https://blog.floydhub.com/content/images/2019/04/Slide3-1.jpg\" width=\"750\"/>\n",
    "</div>"
   ]
  },
  {
   "cell_type": "markdown",
   "metadata": {},
   "source": [
    "## Intuition (Theoretical)"
   ]
  },
  {
   "cell_type": "markdown",
   "metadata": {},
   "source": [
    "### Summary"
   ]
  },
  {
   "cell_type": "markdown",
   "metadata": {},
   "source": [
    "- A recurrent neural network (RNN) is an artificial neural network (ANN), wherein connections between can form a cycle, allowing output from some nodes to affect subsequent input to the same nodes. This allows it to exhibit temporal dynamic behaviour.\n",
    "- RNNs do not consume all the input data at once, unlike FFNNs. Instead, they take them in one at a time and in a sequence. At each step, the RNN does a series of calculations before producing an output. The output, known as the hidden state, is then combined with the next input in the sequence to produce another output. This process continues until the model is programmed to finish or the input sequence ends.\n",
    "- While traditional deep neural networks assume that inputs and outputs are independent of each other, the output of recurrent neural networks depend on the prior elements within the sequence. \n",
    "- While feedforward networks have different weights across each node, recurrent neural networks share the same weight parameter within each layer of the network. \n",
    "- Recurrent neural networks leverage backpropagation through time (BPTT) algorithm to determine the gradients. BPTT differs from the traditional approach in that BPTT sums errors at each time step whereas feedforward networks do not need to sum errors as they do not share parameters across each layer."
   ]
  },
  {
   "cell_type": "markdown",
   "metadata": {},
   "source": [
    "### Extra"
   ]
  },
  {
   "cell_type": "markdown",
   "metadata": {},
   "source": [
    "<div>\n",
    "<img src=\"https://blog.floydhub.com/content/images/2019/04/rnn-2.gif\" width=\"500\"/>\n",
    "</div>"
   ]
  },
  {
   "cell_type": "markdown",
   "metadata": {},
   "source": [
    "- The calculations at each time step consider the context of the previous time steps in the form of the hidden state. Being able to use this contextual information from previous inputs is the key essence to RNNs’ success in sequential problems.\n",
    "- While it may seem that a different RNN cell is being used at each time step in the graphics, the underlying principle of Recurrent Neural Networks is that the RNN cell is actually the exact same one and reused throughout."
   ]
  },
  {
   "cell_type": "markdown",
   "metadata": {},
   "source": [
    "<div>\n",
    "<img src=\"https://www.ibm.com/content/dam/connectedassets-adobe-cms/worldwide-content/cdp/cf/ul/g/ba/82/types-of-recurrent-neural-networks-combined.component.simple-narrative-xl-retina.ts=1681483684972.jpg/content/adobe-cms/us/en/topics/recurrent-neural-networks/jcr:content/root/table_of_contents/body/simple_narrative_1474352927/image\" width=\"750\"/>\n",
    "</div>"
   ]
  },
  {
   "cell_type": "markdown",
   "metadata": {},
   "source": [
    "There are different types of RNNs:\n",
    "\n",
    "- One-to-one: A simple neural network - it is commonly used for machine learning problems that have a single input and output.\n",
    "- One-to-many: A single input and multiple outputs - this is used for generating image captions.\n",
    "- Many-to-one: A sequence of multiple inputs and predicts a single output - it is popular in sentiment classification, where the input is text and the output is a category.\n",
    "- Many-to-many: Multiple inputs and outputs - the most common application is machine translation."
   ]
  },
  {
   "cell_type": "markdown",
   "metadata": {},
   "source": [
    "<div>\n",
    "<img src=\"https://blog.floydhub.com/content/images/2019/04/rnn-bptt-with-gradients.png\" width=\"500\"/>\n",
    "</div>"
   ]
  },
  {
   "cell_type": "markdown",
   "metadata": {},
   "source": [
    "For simple RNN models, there are two major issues:\n",
    "\n",
    "- Vanishing Gradient: Occurs when the gradient becomes so small that updating parameters becomes insignificant; eventually the algorithm stops learning.\n",
    "- Exploding Gradient: Occurs when the gradient becomes too large, which makes the model unstable. In this case, larger error gradients accumulate, and the model weights become too large. This issue can cause longer training times and poor model performance."
   ]
  },
  {
   "cell_type": "markdown",
   "metadata": {},
   "source": [
    "<div>\n",
    "<img src=\"https://images.datacamp.com/image/upload/v1647442110/image6_f6vds6.png\" width=\"500\"/>\n",
    "<br>\n",
    "<img src=\"https://miro.medium.com/v2/resize:fit:1400/1*yBXV9o5q7L_CvY7quJt3WQ.png\" width=\"500\"/>\n",
    "</div>"
   ]
  },
  {
   "cell_type": "markdown",
   "metadata": {},
   "source": [
    "### BiDirectional RNN\n",
    "\n",
    "**Context:**\n",
    "\n",
    "A Bidirectional RNN (BiRNN) is a type of RNN that is designed to overcome the limitation of a vanilla RNN, which can only take into account historical context. It involves duplicating the first recurrent layer in the network so that there are now two layers side-by-side, then providing the input sequence as input to the first layer and providing a reversed copy of the input sequence to the second. This way, the BiRNN can gather information from the past (backward states) and future (forward states) states simultaneously. For example, think about *feeling under the weather* - the model can better predict that the second word in that phrase is *under* if it knew that the last word in the sequence is *weather*.\n",
    "\n",
    "**Theoretical:**\n",
    "\n",
    "\n",
    "Let $X = \\left(x_{1}, x_{2}, ..., x_{T}\\right)$ be a sequence of inputs. The hidden states of a standard RNN are calculated as:\n",
    "\n",
    "$$h_{t} = \\sigma(W^{hx} x_t + W^{hh} h_{t-1} + b_{h})$$\n",
    "\n",
    "where $W^{hx}$ is the weight matrix for the inputs $x_{t}$, $W^{hh}$ is the weight matrix for the previous hidden state $h_{t-1}$, $b_h$ is the bias, and $\\sigma$ is the activation function (like the hyperbolic tangent function).\n",
    "\n",
    "In a BiRNN, the forward hidden states $\\overrightarrow{h_{t}}$ and the backward hidden states $overleftarrow{h_{t}}$ are calculated as follows:\n",
    "\n",
    "For the forward pass:\n",
    "\n",
    "$$\\overrightarrow{h_{t}} = \\sigma(W^{hx_{\\rightarrow}} x_{t} + W^{hh_{\\rightarrow}} \\overrightarrow{h_{t-1}} + b_{h_{\\rightarrow}})$$\n",
    "\n",
    "For the backward pass:\n",
    "\n",
    "$$\\overleftarrow{h_{t}} = \\sigma(W^{hx_{\\leftarrow}} x_t + W^{hh_{\\leftarrow}} \\overleftarrow{h_{t+1}} + b_{h_{\\leftarrow}})$$\n",
    "\n",
    "where $W^{hx_{\\rightarrow}}$, $W^{hh_{\\rightarrow}}$, $b_{h_{\\rightarrow}}$, $W^{hx_{\\leftarrow}}$, $W^{hh_{\\leftarrow}}$, $b_{h_{\\leftarrow}}$ are separate parameters for the forward and backward passes.\n",
    "\n",
    "Finally, the outputs $y_{t}$ of the BiRNN at each time step are calculated based on the forward and backward hidden states:\n",
    "\n",
    "$$y_t = \\sigma(W^{hy_{\\rightarrow}} \\overrightarrow{h_{t}} + W^{hy_{\\leftarrow}} \\overleftarrow{h_{t}} + b_{y})$$\n",
    "\n",
    "where $W^{hy_{\\rightarrow}}$, $W^{hy_{\\leftarrow}}$, $b_{y}$ are the parameters for the output. \n"
   ]
  },
  {
   "cell_type": "markdown",
   "metadata": {},
   "source": [
    "### Long Short-Term Memory\n",
    "\n",
    "**Context:**\n",
    "\n",
    "Long Short-Term Memory (LSTM) units are a modification of standard RNNs, which allows them to better capture long-term dependencies and mitigate issues like vanishing or exploding gradients. An LSTM unit achieves this with the help of a more complex internal structure compared to a standard RNN unit.\n",
    "\n",
    "Each LSTM unit consists of a cell (which can be thought of as the *memory* of the unit) and three *gates* that control the flow of information into and out of the cell. These gates are:\n",
    "\n",
    "- Forget Gate: This gate decides what information to discard from the cell state. It's called the forget gate because it determines what part of the previous state should be forgotten.\n",
    "- Input Gate: This gate updates the cell state with new information. It has two parts - a $sigmoid$ layer called the \"input gate layer\" which decides which values to update, and a $tanh$ layer which creates a vector of new candidate values that could be added to the state.\n",
    "- Output Gate: This gate decides what the next hidden state should be.\n",
    "\n",
    "**Theoretical:**\n",
    "\n",
    "Denote the cell state at time step $t$ as $C_{t}$ and hidden state as $h_{t}$. The LSTM unit takes as input $x_{t}$, as well as the previous hidden state $h_{t-1}$ and cell state $C_{t-1}$:\n",
    "\n",
    "- The forget gate is defined as: $$ f_{t} = \\sigma \\left(W_{f} \\cdot [h_{t-1}, x_{t}] + b_{f}\\right) $$\n",
    "\n",
    "- The input gate updates the cell state: \n",
    "$$ i_{t} = \\sigma \\left(W_{i} \\cdot [h_{t-1}, x_{t}] + b_{i}\\right) $$\n",
    "$$ \\tilde{C}_{t} = \\tanh \\left(W_{C} \\cdot [h_{t-1}, x_{t}] + b_{C}\\right) $$\n",
    "\n",
    "- The old cell state $C_{t-1}$ is updated to the new cell state $C_{t}$: $$ C_{t} = f_{t} * C_{t-1} + i_{t} * \\tilde{C}_{t} $$\n",
    "\n",
    "- The output gate decides what the next hidden state should be:\n",
    "$$ o_{t} = \\sigma \\left(W_{o} \\cdot [h_{t-1}, x_{t}] + b_{o}\\right) $$\n",
    "$$ h_{t} = o_{t} * \\tanh \\left(C_{t}\\right) $$\n",
    "\n"
   ]
  },
  {
   "cell_type": "markdown",
   "metadata": {},
   "source": [
    "### Gated Recurrent Units\n",
    "\n",
    "**Context:**\n",
    "\n",
    "Gated Recurrent Units (GRUs) are a variant of LSTM units, designed to be simpler and more efficient. They have a similar goal as LSTMs — to keep or forget information selectively — but achieve this with a simpler structure.\n",
    "\n",
    "In a GRU, the cell state and the hidden state are merged into a single state, and it uses two gates:\n",
    "\n",
    "- Update Gate ($z$): It's similar to the combination of the forget and input gates in an LSTM. It decides what to keep and what to throw away from the state.\n",
    "- Reset Gate ($r$): It's used to decide how much of the past information to forget.\n",
    "\n",
    "**Theoretical:**\n",
    "\n",
    "Denote $h_{t}$ is the hidden state, $x_{t}$ as input and $\\left[h_{t-1}, x_{t}\\right]$ as the concatenation of the hidden and input state, at time step $t$:\n",
    "\n",
    "- The update gate is calculated as: $$ z_{t} = \\sigma \\left(W_{z} \\cdot [h_{t-1}, x_{t}] + b_{z} \\right) $$\n",
    "   \n",
    "- The reset gate is calculated as: $$ r_{t} = \\sigma \\left(W_{r} \\cdot [h_{t-1}, x_{t}] + b_{r} \\right) $$\n",
    "\n",
    "- The hidden state is updated as: $$ \\tilde{h}_{t} = \\tanh \\left(W \\cdot [r_{t} * h_{t-1}, x_{t}] + b \\right) $$\n",
    "\n",
    "- The final hidden state is a combination of the previous hidden state and the candidate hidden state: $$ h_{t} = \\left(1 - z_{t}\\right) * h_{t-1} + z_{t} * \\tilde{h}_t $$\n"
   ]
  },
  {
   "cell_type": "markdown",
   "metadata": {},
   "source": [
    "## Code"
   ]
  },
  {
   "cell_type": "code",
   "execution_count": 1,
   "metadata": {},
   "outputs": [],
   "source": [
    "# Imports\n",
    "import matplotlib.pyplot as plt\n",
    "import pandas as pd\n",
    "import numpy as np\n",
    "import torch\n",
    "import torch.nn as nn\n",
    "from torch.utils.data import Dataset, DataLoader\n",
    "from sklearn.model_selection import train_test_split\n",
    "from sklearn.preprocessing import MinMaxScaler"
   ]
  },
  {
   "cell_type": "markdown",
   "metadata": {},
   "source": [
    "Since we are using ```torch```, try not to mix ```numpy``` into any calculation or dataset conversions. Additionally, check if you have access to ```GPU``` via ```torch.cuda.is_available()```. To use GPU, apply ```torch.device(\"cuda\" if torch.cuda.is_available() else \"cpu\")```."
   ]
  },
  {
   "cell_type": "markdown",
   "metadata": {},
   "source": [
    "### 1. Load Dataset"
   ]
  },
  {
   "cell_type": "markdown",
   "metadata": {},
   "source": [
    "- For this example we will be looking at famous Mastercard Stock dataset (for regression).\n",
    "- This dataset is readily available via Kaggle ([MasterCard](https://www.kaggle.com/datasets/kalilurrahman/mastercard-stock-data-latest-and-updated?select=Mastercard_stock_history.csv)).\n",
    "- If so, it can be useful to store the data similarly to the way that *torch* does it."
   ]
  },
  {
   "cell_type": "code",
   "execution_count": 2,
   "metadata": {},
   "outputs": [
    {
     "data": {
      "text/html": [
       "<div>\n",
       "<style scoped>\n",
       "    .dataframe tbody tr th:only-of-type {\n",
       "        vertical-align: middle;\n",
       "    }\n",
       "\n",
       "    .dataframe tbody tr th {\n",
       "        vertical-align: top;\n",
       "    }\n",
       "\n",
       "    .dataframe thead th {\n",
       "        text-align: right;\n",
       "    }\n",
       "</style>\n",
       "<table border=\"1\" class=\"dataframe\">\n",
       "  <thead>\n",
       "    <tr style=\"text-align: right;\">\n",
       "      <th></th>\n",
       "      <th>Open</th>\n",
       "      <th>High</th>\n",
       "      <th>Low</th>\n",
       "      <th>Close</th>\n",
       "      <th>Volume</th>\n",
       "    </tr>\n",
       "    <tr>\n",
       "      <th>Date</th>\n",
       "      <th></th>\n",
       "      <th></th>\n",
       "      <th></th>\n",
       "      <th></th>\n",
       "      <th></th>\n",
       "    </tr>\n",
       "  </thead>\n",
       "  <tbody>\n",
       "    <tr>\n",
       "      <th>2006-05-25</th>\n",
       "      <td>3.748967</td>\n",
       "      <td>4.283869</td>\n",
       "      <td>3.739664</td>\n",
       "      <td>4.279217</td>\n",
       "      <td>395343000</td>\n",
       "    </tr>\n",
       "    <tr>\n",
       "      <th>2006-05-26</th>\n",
       "      <td>4.307126</td>\n",
       "      <td>4.348058</td>\n",
       "      <td>4.103398</td>\n",
       "      <td>4.179680</td>\n",
       "      <td>103044000</td>\n",
       "    </tr>\n",
       "    <tr>\n",
       "      <th>2006-05-30</th>\n",
       "      <td>4.183400</td>\n",
       "      <td>4.184330</td>\n",
       "      <td>3.986184</td>\n",
       "      <td>4.093164</td>\n",
       "      <td>49898000</td>\n",
       "    </tr>\n",
       "    <tr>\n",
       "      <th>2006-05-31</th>\n",
       "      <td>4.125723</td>\n",
       "      <td>4.219679</td>\n",
       "      <td>4.125723</td>\n",
       "      <td>4.180608</td>\n",
       "      <td>30002000</td>\n",
       "    </tr>\n",
       "    <tr>\n",
       "      <th>2006-06-01</th>\n",
       "      <td>4.179678</td>\n",
       "      <td>4.474572</td>\n",
       "      <td>4.176887</td>\n",
       "      <td>4.419686</td>\n",
       "      <td>62344000</td>\n",
       "    </tr>\n",
       "    <tr>\n",
       "      <th>...</th>\n",
       "      <td>...</td>\n",
       "      <td>...</td>\n",
       "      <td>...</td>\n",
       "      <td>...</td>\n",
       "      <td>...</td>\n",
       "    </tr>\n",
       "    <tr>\n",
       "      <th>2021-10-05</th>\n",
       "      <td>347.121403</td>\n",
       "      <td>348.130138</td>\n",
       "      <td>342.497241</td>\n",
       "      <td>342.776886</td>\n",
       "      <td>4724100</td>\n",
       "    </tr>\n",
       "    <tr>\n",
       "      <th>2021-10-06</th>\n",
       "      <td>339.580960</td>\n",
       "      <td>348.439763</td>\n",
       "      <td>338.682072</td>\n",
       "      <td>348.250000</td>\n",
       "      <td>3712000</td>\n",
       "    </tr>\n",
       "    <tr>\n",
       "      <th>2021-10-07</th>\n",
       "      <td>349.000000</td>\n",
       "      <td>357.899994</td>\n",
       "      <td>349.000000</td>\n",
       "      <td>353.910004</td>\n",
       "      <td>3209200</td>\n",
       "    </tr>\n",
       "    <tr>\n",
       "      <th>2021-10-08</th>\n",
       "      <td>356.000000</td>\n",
       "      <td>360.369995</td>\n",
       "      <td>354.209991</td>\n",
       "      <td>354.959991</td>\n",
       "      <td>2336700</td>\n",
       "    </tr>\n",
       "    <tr>\n",
       "      <th>2021-10-11</th>\n",
       "      <td>353.950012</td>\n",
       "      <td>354.880005</td>\n",
       "      <td>346.899994</td>\n",
       "      <td>347.149994</td>\n",
       "      <td>2766800</td>\n",
       "    </tr>\n",
       "  </tbody>\n",
       "</table>\n",
       "<p>3872 rows × 5 columns</p>\n",
       "</div>"
      ],
      "text/plain": [
       "                  Open        High         Low       Close     Volume\n",
       "Date                                                                 \n",
       "2006-05-25    3.748967    4.283869    3.739664    4.279217  395343000\n",
       "2006-05-26    4.307126    4.348058    4.103398    4.179680  103044000\n",
       "2006-05-30    4.183400    4.184330    3.986184    4.093164   49898000\n",
       "2006-05-31    4.125723    4.219679    4.125723    4.180608   30002000\n",
       "2006-06-01    4.179678    4.474572    4.176887    4.419686   62344000\n",
       "...                ...         ...         ...         ...        ...\n",
       "2021-10-05  347.121403  348.130138  342.497241  342.776886    4724100\n",
       "2021-10-06  339.580960  348.439763  338.682072  348.250000    3712000\n",
       "2021-10-07  349.000000  357.899994  349.000000  353.910004    3209200\n",
       "2021-10-08  356.000000  360.369995  354.209991  354.959991    2336700\n",
       "2021-10-11  353.950012  354.880005  346.899994  347.149994    2766800\n",
       "\n",
       "[3872 rows x 5 columns]"
      ]
     },
     "execution_count": 2,
     "metadata": {},
     "output_type": "execute_result"
    }
   ],
   "source": [
    "# Load data\n",
    "df = pd.read_csv(\"Mastercard_stock_history.csv\", index_col=\"Date\", parse_dates=[\"Date\"]).drop([\"Dividends\", \"Stock Splits\"], axis=1)\n",
    "df"
   ]
  },
  {
   "cell_type": "code",
   "execution_count": 3,
   "metadata": {},
   "outputs": [
    {
     "data": {
      "text/plain": [
       "Open      0\n",
       "High      0\n",
       "Low       0\n",
       "Close     0\n",
       "Volume    0\n",
       "dtype: int64"
      ]
     },
     "execution_count": 3,
     "metadata": {},
     "output_type": "execute_result"
    }
   ],
   "source": [
    "# Check for NaNs and missing data/duplicates\n",
    "df.isna().sum()"
   ]
  },
  {
   "cell_type": "code",
   "execution_count": 4,
   "metadata": {},
   "outputs": [
    {
     "data": {
      "image/png": "[encoded data removed]",
      "text/plain": [
       "<Figure size 1600x400 with 1 Axes>"
      ]
     },
     "metadata": {},
     "output_type": "display_data"
    },
    {
     "data": {
      "text/html": [
       "<div>\n",
       "<style scoped>\n",
       "    .dataframe tbody tr th:only-of-type {\n",
       "        vertical-align: middle;\n",
       "    }\n",
       "\n",
       "    .dataframe tbody tr th {\n",
       "        vertical-align: top;\n",
       "    }\n",
       "\n",
       "    .dataframe thead th {\n",
       "        text-align: right;\n",
       "    }\n",
       "</style>\n",
       "<table border=\"1\" class=\"dataframe\">\n",
       "  <thead>\n",
       "    <tr style=\"text-align: right;\">\n",
       "      <th></th>\n",
       "      <th>High</th>\n",
       "    </tr>\n",
       "    <tr>\n",
       "      <th>Date</th>\n",
       "      <th></th>\n",
       "    </tr>\n",
       "  </thead>\n",
       "  <tbody>\n",
       "    <tr>\n",
       "      <th>2006-05-25</th>\n",
       "      <td>4.283869</td>\n",
       "    </tr>\n",
       "    <tr>\n",
       "      <th>2006-05-26</th>\n",
       "      <td>4.348058</td>\n",
       "    </tr>\n",
       "    <tr>\n",
       "      <th>2006-05-30</th>\n",
       "      <td>4.184330</td>\n",
       "    </tr>\n",
       "    <tr>\n",
       "      <th>2006-05-31</th>\n",
       "      <td>4.219679</td>\n",
       "    </tr>\n",
       "    <tr>\n",
       "      <th>2006-06-01</th>\n",
       "      <td>4.474572</td>\n",
       "    </tr>\n",
       "    <tr>\n",
       "      <th>...</th>\n",
       "      <td>...</td>\n",
       "    </tr>\n",
       "    <tr>\n",
       "      <th>2021-10-05</th>\n",
       "      <td>348.130138</td>\n",
       "    </tr>\n",
       "    <tr>\n",
       "      <th>2021-10-06</th>\n",
       "      <td>348.439763</td>\n",
       "    </tr>\n",
       "    <tr>\n",
       "      <th>2021-10-07</th>\n",
       "      <td>357.899994</td>\n",
       "    </tr>\n",
       "    <tr>\n",
       "      <th>2021-10-08</th>\n",
       "      <td>360.369995</td>\n",
       "    </tr>\n",
       "    <tr>\n",
       "      <th>2021-10-11</th>\n",
       "      <td>354.880005</td>\n",
       "    </tr>\n",
       "  </tbody>\n",
       "</table>\n",
       "<p>3872 rows × 1 columns</p>\n",
       "</div>"
      ],
      "text/plain": [
       "                  High\n",
       "Date                  \n",
       "2006-05-25    4.283869\n",
       "2006-05-26    4.348058\n",
       "2006-05-30    4.184330\n",
       "2006-05-31    4.219679\n",
       "2006-06-01    4.474572\n",
       "...                ...\n",
       "2021-10-05  348.130138\n",
       "2021-10-06  348.439763\n",
       "2021-10-07  357.899994\n",
       "2021-10-08  360.369995\n",
       "2021-10-11  354.880005\n",
       "\n",
       "[3872 rows x 1 columns]"
      ]
     },
     "execution_count": 4,
     "metadata": {},
     "output_type": "execute_result"
    }
   ],
   "source": [
    "# Plot train and test dataset \n",
    "\n",
    "def train_test_plot(dataset: pd.DataFrame, tstart: int, tend: int):\n",
    "    dataset.loc[f\"{tstart}\":f\"{tend}\", \"High\"].plot(figsize=(16, 4), legend=True)\n",
    "    dataset.loc[f\"{tend+1}\":, \"High\"].plot(figsize=(16, 4), legend=True)\n",
    "    plt.legend([f\"Train (Before {tend+1})\", f\"Test ({tend+1} and beyond)\"])\n",
    "    plt.title(\"MasterCard stock price\")\n",
    "    plt.show()\n",
    "\n",
    "train_test_plot(dataset=df,tstart=2016,tend=2020)\n",
    "pd.DataFrame(df['High'])\n"
   ]
  },
  {
   "cell_type": "code",
   "execution_count": 5,
   "metadata": {},
   "outputs": [],
   "source": [
    "# Obtain dataset split\n",
    "def data_split(dataset, tstart, tend):\n",
    "    train = dataset.loc[f\"{tstart}\":f\"{tend}\", \"High\"].values\n",
    "    test = dataset.loc[f\"{tend+1}\":, \"High\"].values\n",
    "    return train, test\n",
    "training_set, test_set = data_split(dataset=df,tstart=2016,tend=2020)"
   ]
  },
  {
   "cell_type": "code",
   "execution_count": 6,
   "metadata": {},
   "outputs": [],
   "source": [
    "# Scale training dataset\n",
    "sc = MinMaxScaler(feature_range=(0, 1))\n",
    "training_set = training_set.reshape(-1, 1)\n",
    "training_set = sc.fit_transform(training_set)\n",
    "# Transform test dataset\n",
    "test_set = test_set.reshape(-1, 1)\n",
    "test_set = sc.transform(test_set)"
   ]
  },
  {
   "cell_type": "markdown",
   "metadata": {},
   "source": [
    "Let’s focus on the High column as we are going to use it to train the model - it makes more sense (than Close or Open) as it provides us information of how high the values of the share went on the given day. The minimum stock price is $4.10$, and the highest is $400.5$. The mean is at $105.9$ and the standard deviation $107.3$, which means that stocks have high variance."
   ]
  },
  {
   "cell_type": "markdown",
   "metadata": {},
   "source": [
    "### 2. Process Data"
   ]
  },
  {
   "cell_type": "markdown",
   "metadata": {},
   "source": [
    "- Depending on if you are loading the data or creating the data yourself, you may need to clean the data so that the model can use it. This is perhaps the most trickiest part throughout a Data Science/Machine Learning pipeline.\n",
    "- In this case, it is good to make *batches* of the dataset so that we can manipulate the way the data is being trained e.g. allow shuffling when training per epoch etc...\n",
    "- Given that this is a sequential learning problem, the training and validation process is different to the traditional machine learning method. Here, we do not want to shuffle the dataset as we do not want cross validation between past and future dates i.e. data leakage."
   ]
  },
  {
   "cell_type": "code",
   "execution_count": 7,
   "metadata": {},
   "outputs": [],
   "source": [
    "# Create dataset from the high column\n",
    "def split_sequence(sequence, n_steps):\n",
    "    X = np.array([sequence[i:i+n_steps] for i in range(len(sequence) - n_steps)])\n",
    "    y = np.array([sequence[i+n_steps] for i in range(len(sequence) - n_steps)])\n",
    "    return torch.tensor(X), torch.tensor(y)"
   ]
  },
  {
   "cell_type": "code",
   "execution_count": 8,
   "metadata": {},
   "outputs": [
    {
     "name": "stderr",
     "output_type": "stream",
     "text": [
      "/var/folders/lk/nt7ymd8953j6ryfm2zmz2g740000gn/T/ipykernel_3414/3477559225.py:6: UserWarning: To copy construct from a tensor, it is recommended to use sourceTensor.clone().detach() or sourceTensor.clone().detach().requires_grad_(True), rather than torch.tensor(sourceTensor).\n",
      "  train_dataset = torch.utils.data.TensorDataset(torch.tensor(X_train, dtype=torch.float32), torch.tensor(y_train, dtype=torch.float32))\n",
      "/var/folders/lk/nt7ymd8953j6ryfm2zmz2g740000gn/T/ipykernel_3414/3477559225.py:7: UserWarning: To copy construct from a tensor, it is recommended to use sourceTensor.clone().detach() or sourceTensor.clone().detach().requires_grad_(True), rather than torch.tensor(sourceTensor).\n",
      "  val_dataset = torch.utils.data.TensorDataset(torch.tensor(X_val, dtype=torch.float32), torch.tensor(y_val, dtype=torch.float32))\n"
     ]
    }
   ],
   "source": [
    "# Create training and validation dataset\n",
    "n_steps = 3\n",
    "batch_size = 10\n",
    "X, y = split_sequence(sequence=training_set, n_steps=n_steps)\n",
    "X_train, X_val, y_train, y_val = train_test_split(X, y, test_size=0.2, shuffle=False)\n",
    "train_dataset = torch.utils.data.TensorDataset(torch.tensor(X_train, dtype=torch.float32), torch.tensor(y_train, dtype=torch.float32))\n",
    "val_dataset = torch.utils.data.TensorDataset(torch.tensor(X_val, dtype=torch.float32), torch.tensor(y_val, dtype=torch.float32))\n",
    "train_loader = DataLoader(train_dataset, batch_size=batch_size, shuffle=False)\n",
    "val_loader = DataLoader(val_dataset, batch_size=batch_size, shuffle=False)"
   ]
  },
  {
   "cell_type": "code",
   "execution_count": 9,
   "metadata": {},
   "outputs": [
    {
     "name": "stderr",
     "output_type": "stream",
     "text": [
      "/var/folders/lk/nt7ymd8953j6ryfm2zmz2g740000gn/T/ipykernel_3414/1983514634.py:3: UserWarning: To copy construct from a tensor, it is recommended to use sourceTensor.clone().detach() or sourceTensor.clone().detach().requires_grad_(True), rather than torch.tensor(sourceTensor).\n",
      "  test_dataset = torch.utils.data.TensorDataset(torch.tensor(X_test, dtype=torch.float32), torch.tensor(y_test, dtype=torch.float32))\n"
     ]
    }
   ],
   "source": [
    "# Create test dataset\n",
    "X_test, y_test = split_sequence(sequence=test_set, n_steps=n_steps)\n",
    "test_dataset = torch.utils.data.TensorDataset(torch.tensor(X_test, dtype=torch.float32), torch.tensor(y_test, dtype=torch.float32))\n",
    "test_loader = DataLoader(test_dataset, batch_size=batch_size, shuffle=False)"
   ]
  },
  {
   "cell_type": "markdown",
   "metadata": {},
   "source": [
    "For sequential problems, we have input as ```[batch size, length of input, target]```, which is different to FFNN and CNN. The input dimension is with respect to each time step and is constant."
   ]
  },
  {
   "cell_type": "markdown",
   "metadata": {},
   "source": [
    "### 3. Create Model"
   ]
  },
  {
   "cell_type": "markdown",
   "metadata": {},
   "source": [
    "- Once the data is ready, we can now look to choose what kind of model we want to create.\n",
    "- For this notebook, we will implement a RNN, LSTM and GRU. Other models exist e.g. Convolutional Neural Network (CNN) etc..."
   ]
  },
  {
   "cell_type": "code",
   "execution_count": 10,
   "metadata": {},
   "outputs": [],
   "source": [
    "class RNNModel(nn.Module):\n",
    "    def __init__(self, input_dim, hidden_dim, layer_dim, output_dim):\n",
    "        super(RNNModel, self).__init__()\n",
    "        # Hidden dimensions\n",
    "        self.hidden_dim = hidden_dim\n",
    "        # Layer dimensions\n",
    "        self.layer_dim = layer_dim\n",
    "        # RNN\n",
    "        self.rnn = nn.RNN(input_dim, hidden_dim, layer_dim, batch_first=True, nonlinearity='relu')\n",
    "        # Output layer\n",
    "        self.fc = nn.Linear(hidden_dim, output_dim)\n",
    "\n",
    "    def forward(self, x):\n",
    "        # Initial hidden state\n",
    "        h_0 = torch.zeros(self.layer_dim, x.size(0), self.hidden_dim)\n",
    "        # Backpropagation Through Time (detach the hidden state)\n",
    "        out, _ = self.rnn(x, h_0.detach())\n",
    "        # Output (Shape: [batch_size, seq_length, hidden_size])\n",
    "        out = self.fc(out[:, -1, :]) \n",
    "        return out"
   ]
  },
  {
   "cell_type": "code",
   "execution_count": null,
   "metadata": {},
   "outputs": [],
   "source": [
    "class LSTMModel(nn.Module):\n",
    "    def __init__(self, input_dim, hidden_dim, layer_dim, output_dim):\n",
    "        super(LSTMModel, self).__init__()\n",
    "        # Hidden dimensions\n",
    "        self.hidden_dim = hidden_dim\n",
    "\n",
    "        # Number of hidden layers\n",
    "        self.layer_dim = layer_dim\n",
    "\n",
    "        # Building your LSTM\n",
    "        # batch_first=True causes input/output tensors to be of shape\n",
    "        # (batch_dim, seq_dim, feature_dim)\n",
    "        self.lstm = nn.LSTM(input_dim, hidden_dim, layer_dim, batch_first=True)\n",
    "\n",
    "        # Readout layer\n",
    "        self.fc = nn.Linear(hidden_dim, output_dim)\n",
    "\n",
    "    def forward(self, x):\n",
    "        # Initialize hidden state with zeros\n",
    "        h0 = torch.zeros(self.layer_dim, x.size(0), self.hidden_dim).requires_grad_()\n",
    "\n",
    "        # Initialize cell state\n",
    "        c0 = torch.zeros(self.layer_dim, x.size(0), self.hidden_dim).requires_grad_()\n",
    "\n",
    "        # 28 time steps\n",
    "        # We need to detach as we are doing truncated backpropagation through time (BPTT)\n",
    "        # If we don't, we'll backprop all the way to the start even after going through another batch\n",
    "        out, (hn, cn) = self.lstm(x, (h0.detach(), c0.detach()))\n",
    "\n",
    "        # Index hidden state of last time step\n",
    "        # out.size() --> 100, 28, 100\n",
    "        # out[:, -1, :] --> 100, 100 --> just want last time step hidden states! \n",
    "        out = self.fc(out[:, -1, :]) \n",
    "        # out.size() --> 100, 10\n",
    "        return out"
   ]
  },
  {
   "cell_type": "markdown",
   "metadata": {},
   "source": [
    "### 4. Instantiate Model Class"
   ]
  },
  {
   "cell_type": "markdown",
   "metadata": {},
   "source": [
    "- Now the architecture and data are in the correct form, we can being initialise our class.\n",
    "- Once this is complete, we can begin training.\n",
    "- We may run into some errors from time to time - this usually occurs because of incompatible dimensions or incorrect data types so be sure to fix these."
   ]
  },
  {
   "cell_type": "code",
   "execution_count": 11,
   "metadata": {},
   "outputs": [],
   "source": [
    "# Create model\n",
    "model = RNNModel(input_dim=1, hidden_dim=10, layer_dim=1, output_dim=1)"
   ]
  },
  {
   "cell_type": "markdown",
   "metadata": {},
   "source": [
    "### 5. Instantiate Optimiser and Loss Function"
   ]
  },
  {
   "cell_type": "markdown",
   "metadata": {},
   "source": [
    "- In order to update our weights (to find the optimal ones) and track the model performance, we need to choose an optimiser and loss function.\n",
    "- The loss function is typically straightforward (as it depends on the machine learning task) however there are a plethora of optimisers you could use e.g. SGD, Adam etc... Usually this is a trial and error choice to find the *best* one."
   ]
  },
  {
   "cell_type": "code",
   "execution_count": 12,
   "metadata": {},
   "outputs": [],
   "source": [
    "# Instantiate loss function\n",
    "loss_fn = nn.MSELoss()\n",
    "# Instantiate optimiser\n",
    "opt = torch.optim.Adam(params=model.parameters())"
   ]
  },
  {
   "cell_type": "markdown",
   "metadata": {},
   "source": [
    "It is important to recognise that ```model.parameters()``` are the parameters that we wish to update/optimise. If these are not correctly defined in the ```__init__```, then the network may not be fully functional."
   ]
  },
  {
   "cell_type": "markdown",
   "metadata": {},
   "source": [
    "### 6. Model Training"
   ]
  },
  {
   "cell_type": "markdown",
   "metadata": {},
   "source": [
    "- We are now ready to train the model.\n",
    "- Through training, it is also useful to record some metrics to see how the model is performing.\n",
    "- We use the loss of model to dictate potential *early stopping* of the model (although we could use other measures as well) i.e. if the model loss starts increasing after it has decreased, we are potentially overfitting and so should stop training and keep the model at that instance. This can be applied per ```epoch``` or at some multiple of ```n_iters```.\n",
    "- When evaluating the model, it is necessary to apply ```model.eval()``` along with ```torch.no_grad()``` and once this is complete, to apply ```model.train()``` after if the model architecture includes layers of ```dropout```, ```batch_normalisation``` etc...\n",
    "- The training and evaluation phase below is a generalised architecture; there are other variations of this which you may want to experiment with!"
   ]
  },
  {
   "cell_type": "code",
   "execution_count": 13,
   "metadata": {},
   "outputs": [],
   "source": [
    "# Calculate number of epochs\n",
    "n_iters = 15000\n",
    "num_epochs = n_iters / (len(train_dataset) / batch_size)\n",
    "num_epochs = int(num_epochs)"
   ]
  },
  {
   "cell_type": "code",
   "execution_count": 14,
   "metadata": {},
   "outputs": [],
   "source": [
    "# Initialize the early stopping parameters\n",
    "best_val_loss = float(\"inf\")\n",
    "patience = 3\n",
    "epochs_no_improve = 0\n",
    "early_stop = False"
   ]
  },
  {
   "cell_type": "code",
   "execution_count": 15,
   "metadata": {},
   "outputs": [
    {
     "name": "stdout",
     "output_type": "stream",
     "text": [
      "Epoch: 0 | Validation loss: 0.14777336626139004 | Validation MSE: 0.14777336626139004\n",
      "Epoch: 1 | Validation loss: 0.176381959579885 | Validation MSE: 0.176381959579885\n",
      "Epoch: 2 | Validation loss: 0.08366034715436399 | Validation MSE: 0.08366034715436399\n",
      "Epoch: 3 | Validation loss: 0.05645351664861664 | Validation MSE: 0.05645351664861664\n",
      "Epoch: 4 | Validation loss: 0.04028601149911992 | Validation MSE: 0.04028601149911992\n",
      "Epoch: 5 | Validation loss: 0.03851499324082397 | Validation MSE: 0.03851499324082397\n",
      "Epoch: 6 | Validation loss: 0.039306254184339195 | Validation MSE: 0.039306254184339195\n",
      "Epoch: 7 | Validation loss: 0.0392767776211258 | Validation MSE: 0.0392767776211258\n",
      "Epoch: 8 | Validation loss: 0.0384157226071693 | Validation MSE: 0.0384157226071693\n",
      "Epoch: 9 | Validation loss: 0.03666491649346426 | Validation MSE: 0.03666491649346426\n",
      "Epoch: 10 | Validation loss: 0.0346157334279269 | Validation MSE: 0.0346157334279269\n",
      "Epoch: 11 | Validation loss: 0.032735744200181216 | Validation MSE: 0.032735744200181216\n",
      "Epoch: 12 | Validation loss: 0.03138817301078234 | Validation MSE: 0.03138817301078234\n",
      "Epoch: 13 | Validation loss: 0.030274006072431803 | Validation MSE: 0.030274006072431803\n",
      "Epoch: 14 | Validation loss: 0.029378180945059285 | Validation MSE: 0.029378180945059285\n",
      "Epoch: 15 | Validation loss: 0.028758482658304274 | Validation MSE: 0.028758482658304274\n",
      "Epoch: 16 | Validation loss: 0.02834796100796666 | Validation MSE: 0.02834796100796666\n",
      "Epoch: 17 | Validation loss: 0.028133225183410104 | Validation MSE: 0.028133225183410104\n",
      "Epoch: 18 | Validation loss: 0.028037539050274063 | Validation MSE: 0.028037539050274063\n",
      "Epoch: 19 | Validation loss: 0.02805407511186786 | Validation MSE: 0.02805407511186786\n",
      "Epoch: 20 | Validation loss: 0.028272751107579097 | Validation MSE: 0.028272751107579097\n",
      "Epoch: 21 | Validation loss: 0.02848700100730639 | Validation MSE: 0.02848700100730639\n"
     ]
    }
   ],
   "source": [
    "# Train model\n",
    "train_losses = []\n",
    "val_losses = []\n",
    "for epoch in range(num_epochs):\n",
    "    # Initialise training loss\n",
    "    train_loss = 0\n",
    "    # Iterate through entire collection (per batch)\n",
    "    for seq, targets in train_loader:\n",
    "        # Clear gradients with respect to parameters\n",
    "        opt.zero_grad()\n",
    "        # Forward pass\n",
    "        outputs = model(seq)\n",
    "        # Calculate loss\n",
    "        loss = loss_fn(outputs, targets)\n",
    "        # Accumulate loss\n",
    "        train_loss += loss.item()\n",
    "        # Backward pass\n",
    "        loss.backward()\n",
    "        # Parameter update\n",
    "        opt.step()\n",
    "    # Store information\n",
    "    train_losses.append(train_loss)\n",
    "    # Evaluate model (NOTE: In the evaluation phase, the model parameters do not need updating!)\n",
    "    with torch.no_grad():\n",
    "        # Initialise validation loss\n",
    "        val_loss = 0\n",
    "        # Iterate through entire collection (per batch)for inputs, labels in test_loader:\n",
    "        for seq, targets in val_loader:\n",
    "            # Forward pass\n",
    "            outputs = model(seq)\n",
    "            # Calculate loss\n",
    "            loss = loss_fn(outputs, targets)\n",
    "            # Accumulate loss\n",
    "            val_loss += loss.item()\n",
    "        # Store information\n",
    "        val_losses.append(val_loss)\n",
    "        # Print loss and accuracy\n",
    "        print(\n",
    "            f\"Epoch: {epoch} | Validation loss: {val_loss} | Validation MSE: {val_loss}\"\n",
    "        )\n",
    "        # If the validation loss is at a new minimum, save the model\n",
    "        if val_loss < best_val_loss:\n",
    "            torch.save(model.state_dict(), \"best_model.pth\")\n",
    "            best_val_loss = val_loss\n",
    "            epochs_no_improve = 0\n",
    "        # If the validation loss is not improving for certain patience, stop training!\n",
    "        else:\n",
    "            epochs_no_improve += 1\n",
    "            if epochs_no_improve == patience:\n",
    "                early_stop = True\n",
    "                break"
   ]
  },
  {
   "cell_type": "code",
   "execution_count": 16,
   "metadata": {},
   "outputs": [
    {
     "data": {
      "image/png": "[encoded data removed]",
      "text/plain": [
       "<Figure size 1000x500 with 1 Axes>"
      ]
     },
     "metadata": {},
     "output_type": "display_data"
    }
   ],
   "source": [
    "# Plot training and validation losses\n",
    "plt.figure(figsize=(10, 5))\n",
    "plt.plot(train_losses, label='Training Loss')\n",
    "plt.plot(val_losses, label='Validation Loss')\n",
    "plt.xlabel('Epochs')\n",
    "plt.ylabel('Loss')\n",
    "plt.legend()\n",
    "plt.show()"
   ]
  },
  {
   "cell_type": "markdown",
   "metadata": {},
   "source": [
    "If the validation loss is displaying ```inf```, then something has gone wrong with the data or the model - debug the code to check which! "
   ]
  },
  {
   "cell_type": "code",
   "execution_count": 17,
   "metadata": {},
   "outputs": [
    {
     "data": {
      "text/plain": [
       "<All keys matched successfully>"
      ]
     },
     "execution_count": 17,
     "metadata": {},
     "output_type": "execute_result"
    }
   ],
   "source": [
    "# Load saved model\n",
    "model.load_state_dict(torch.load(\"best_model.pth\"))"
   ]
  },
  {
   "cell_type": "markdown",
   "metadata": {},
   "source": [
    "### 7. Model Testing"
   ]
  },
  {
   "cell_type": "markdown",
   "metadata": {},
   "source": [
    "- Now that the model has been trained and evaluated, we can test the optimal model on unseen data.\n",
    "- This is a crucial part as it shows whether or not the model is generalisable i.e. has low variance."
   ]
  },
  {
   "cell_type": "code",
   "execution_count": 18,
   "metadata": {},
   "outputs": [
    {
     "name": "stdout",
     "output_type": "stream",
     "text": [
      "Test MSE: 0.02587369250250049\n"
     ]
    }
   ],
   "source": [
    "# Test model\n",
    "test_loss = 0\n",
    "pred = []\n",
    "for seq, targets in test_loader:\n",
    "    # Forward pass\n",
    "    outputs = model(seq)\n",
    "    # Re-transform data\n",
    "    pred.append(sc.inverse_transform(outputs.detach().numpy()).tolist())\n",
    "    # Calculate loss\n",
    "    loss = loss_fn(outputs, targets)\n",
    "    # Accumulate loss\n",
    "    test_loss += loss.item()\n",
    "# Return metric\n",
    "pred = np.array([item for sublist in pred for item in sublist])\n",
    "print(f\"Test MSE: {test_loss}\")"
   ]
  },
  {
   "cell_type": "code",
   "execution_count": 19,
   "metadata": {},
   "outputs": [
    {
     "data": {
      "image/png": "[encoded data removed]",
      "text/plain": [
       "<Figure size 640x480 with 1 Axes>"
      ]
     },
     "metadata": {},
     "output_type": "display_data"
    }
   ],
   "source": [
    "def plot_predictions(test, predicted):\n",
    "    plt.plot(test, color=\"gray\", label=\"Real\")\n",
    "    plt.plot(predicted, color=\"red\", label=\"Predicted\")\n",
    "    plt.title(\"MasterCard Stock Price Prediction\")\n",
    "    plt.xlabel(\"Time\")\n",
    "    plt.ylabel(\"MasterCard Stock Price\")\n",
    "    plt.legend()\n",
    "    plt.show()\n",
    "plot_predictions(test=sc.inverse_transform(test_set), predicted=pred)"
   ]
  },
  {
   "cell_type": "markdown",
   "metadata": {},
   "source": [
    "## Final Remarks"
   ]
  },
  {
   "cell_type": "markdown",
   "metadata": {},
   "source": [
    "Thank you for reading this notebook. Note that there are other implementations of recurrent neural networks (which I would advise you to take a look at to see any differences of similarities with this version).\n",
    "If there are any mistakes or things that need more clarity, feel free to respond and I will be happy to reply 😊.\n",
    "\n",
    "© *PolyNath 2023*"
   ]
  }
 ],
 "metadata": {
  "kernelspec": {
   "display_name": "Python 3 (ipykernel)",
   "language": "python",
   "name": "python3"
  },
  "language_info": {
   "codemirror_mode": {
    "name": "ipython",
    "version": 3
   },
   "file_extension": ".py",
   "mimetype": "text/x-python",
   "name": "python",
   "nbconvert_exporter": "python",
   "pygments_lexer": "ipython3",
   "version": "3.9.13"
  }
 },
 "nbformat": 4,
 "nbformat_minor": 2
}
