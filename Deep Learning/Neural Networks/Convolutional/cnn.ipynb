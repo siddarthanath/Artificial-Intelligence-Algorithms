{
 "cells": [
  {
   "attachments": {},
   "cell_type": "markdown",
   "metadata": {},
   "source": [
    "# Convolutional Neural Network"
   ]
  },
  {
   "attachments": {},
   "cell_type": "markdown",
   "metadata": {},
   "source": [
    "This notebook will demonstrate a step-by-step understanding of a Convolutional Neural Network (CNN). In particular, we will be focussing on the implementation of a CNN in **PyTorch** for classification and regression tasks."
   ]
  },
  {
   "attachments": {},
   "cell_type": "markdown",
   "metadata": {},
   "source": [
    "## Intuition (Visual)"
   ]
  },
  {
   "attachments": {},
   "cell_type": "markdown",
   "metadata": {},
   "source": [
    "<div>\n",
    "<img src=\"https://www.deeplearningwizard.com/deep_learning/practical_pytorch/images/cnn1.png\" width=\"1000\"/>\n",
    "</div>"
   ]
  },
  {
   "attachments": {},
   "cell_type": "markdown",
   "metadata": {},
   "source": [
    "## Intuition (Theoretical)"
   ]
  },
  {
   "attachments": {},
   "cell_type": "markdown",
   "metadata": {},
   "source": [
    "### Summary"
   ]
  },
  {
   "attachments": {},
   "cell_type": "markdown",
   "metadata": {},
   "source": [
    "- A convolutional neural network (CNN) is an artificial neural network (ANN), wherein connections between the nodes do not form a cycle (but instead move *forward* through the network).\n",
    "- A CNN is comprised of:\n",
    "1. Input Layer\n",
    "2. Convolutional Layer\n",
    "3. Hidden Layers\n",
    "4. Output Layer\n",
    "- A CNN can be shallow/deep, as well as narrow/wide. These properties depend on: \n",
    "1. Number of hidden layers\n",
    "2. Number of hidden units in the layers."
   ]
  },
  {
   "attachments": {},
   "cell_type": "markdown",
   "metadata": {},
   "source": [
    "### Convolutional Layer"
   ]
  },
  {
   "attachments": {},
   "cell_type": "markdown",
   "metadata": {},
   "source": [
    "- Unlike traditional neural networks, CNNs use convolutions, an element-wise multiplication operation, instead of general matrix multiplication, in at least one of their layers. The convolution occurs between the kernel/filter and the input data. \n",
    "- The kernel/filter is an $m \\times n$ matrix which slides across the input data (performing convolution), in order to extract features from the input. A stride may be applied to the kernel i.e. the number of columns/rows to skip during each kernel slide.\n",
    "- Once this is complete, we apply a pooling method to downsample the data - this reduces the size of feature maps, which in turn makes computation faster because the number of training parameters is reduced. Two popular pooling strategies are maximum and average pooling.\n",
    "- Sometimes we apply a padding before the convolution happens - it is useful when we want to retain spatial information and ensure that the output feature maps have the same spatial dimensions as the input. It can also help in capturing features near the borders of the input image."
   ]
  },
  {
   "attachments": {},
   "cell_type": "markdown",
   "metadata": {},
   "source": [
    "<div>\n",
    "<img src=\"https://media.geeksforgeeks.org/wp-content/uploads/20220302180104/Group16.jpg\" width=\"500\"/>\n",
    "<br>\n",
    "<img src=\"https://miro.medium.com/max/700/1*5BwZUqAqFFP5f3wKYQ6wJg.gif\" width=\"500\"/>\n",
    "<br>\n",
    "<img src=\"https://cdn-images-1.medium.com/max/726/1*fXxDBsJ96FKEtMOa9vNgjA.gif\" width=\"500\"/>\n",
    "<br>\n",
    "<img src=\"https://www.deeplearningwizard.com/deep_learning/practical_pytorch/images/cnn10-2n.png\" width=\"1000\"/>\n",
    "</div>"
   ]
  },
  {
   "attachments": {},
   "cell_type": "markdown",
   "metadata": {},
   "source": [
    "### Extra"
   ]
  },
  {
   "attachments": {},
   "cell_type": "markdown",
   "metadata": {},
   "source": [
    "- A CNN is commonly used for analyzing visual imagery. \n",
    "- CNNs are also known as Shift Invariant or Space Invariant Artificial Neural Networks (SIANN) due to their shared-weight architecture. The convolution kernels or filters in CNNs slide across input features, generating translation-equivariant responses known as feature maps. However, despite their name, most CNNs are not fully invariant to translation due to downsampling operations applied to the input.\n",
    "- CNNs are a regularization technique for multilayer perceptrons (MLP)/FFNN, which are fully connected networks. MLPs have a higher risk of overfitting data due to their full connectivity. CNNs, on the other hand, exploit the hierarchical patterns in data. Instead of processing the entire input at once, CNNs break it down into smaller features using filters. These filters extract relevant information from different regions of the input. As the network progresses through layers, these features are combined and assembled into more complex patterns, enabling the network to learn abstract representations of the input. This hierarchical approach allows CNNs to learn complex patterns efficiently while reducing the risk of overfitting. Compared to other networks, CNNs have lower connectivity and complexity."
   ]
  },
  {
   "attachments": {},
   "cell_type": "markdown",
   "metadata": {},
   "source": [
    "## Code"
   ]
  },
  {
   "cell_type": "code",
   "execution_count": 5,
   "metadata": {},
   "outputs": [],
   "source": [
    "# Imports\n",
    "from typing import Callable\n",
    "import matplotlib.pyplot as plt\n",
    "import torch\n",
    "import torch.nn as nn\n",
    "import torchvision.transforms as transforms\n",
    "import torchvision.datasets as dsets"
   ]
  },
  {
   "attachments": {},
   "cell_type": "markdown",
   "metadata": {},
   "source": [
    "Since we are using ```torch```, try not to mix ```numpy``` into any calculation or dataset conversions. Additionally, check if you have access to ```GPU``` via ```torch.cuda.is_available()```. To use GPU, apply ```torch.device(\"cuda\" if torch.cuda.is_available() else \"cpu\")```."
   ]
  },
  {
   "attachments": {},
   "cell_type": "markdown",
   "metadata": {},
   "source": [
    "### 1. Load Dataset"
   ]
  },
  {
   "attachments": {},
   "cell_type": "markdown",
   "metadata": {},
   "source": [
    "- For this example we will be looking at famous MNIST dataset (for multiclass classification).\n",
    "- This dataset is readily available via the *torch* library - in some cases, you may need to load/create the data yourselves.\n",
    "- If so, it can be useful to store the data similarly to the way that *torch* does it."
   ]
  },
  {
   "cell_type": "code",
   "execution_count": 6,
   "metadata": {},
   "outputs": [],
   "source": [
    "# Training set\n",
    "train_dataset = dsets.MNIST(root='./data', \n",
    "                            train=True, \n",
    "                            transform=transforms.ToTensor(),\n",
    "                            download=True)\n",
    "# Test set\n",
    "test_dataset = dsets.MNIST(root='./data', \n",
    "                           train=False, \n",
    "                           transform=transforms.ToTensor())"
   ]
  },
  {
   "attachments": {},
   "cell_type": "markdown",
   "metadata": {},
   "source": [
    "### 2. Process Data"
   ]
  },
  {
   "attachments": {},
   "cell_type": "markdown",
   "metadata": {},
   "source": [
    "- Depending on if you are loading the data or creating the data yourself, you may need to clean the data so that the model can use it. This is perhaps the most trickiest part throughout a Data Science/Machine Learning pipeline.\n",
    "- In this case, it is good to make *batches* of the dataset so that we can manipulate the way the data is being trained e.g. allow shuffling when training per epoch etc..."
   ]
  },
  {
   "cell_type": "code",
   "execution_count": 7,
   "metadata": {},
   "outputs": [],
   "source": [
    "# Decide batch size in each portion of the data loader object\n",
    "batch_size = 128\n",
    "# Decide the sizes of the datasets\n",
    "train_size = int(0.8 * len(train_dataset)) \n",
    "val_size = len(train_dataset) - train_size \n",
    "# Split the dataset\n",
    "train_dataset, val_dataset = torch.utils.data.random_split(train_dataset, [train_size, val_size])\n",
    "# Create DataLoaders for each dataset\n",
    "train_loader = torch.utils.data.DataLoader(dataset=train_dataset, \n",
    "                                           batch_size=batch_size, \n",
    "                                           shuffle=True)\n",
    "val_loader = torch.utils.data.DataLoader(dataset=val_dataset, \n",
    "                                         batch_size=batch_size, \n",
    "                                         shuffle=False)\n",
    "test_loader = torch.utils.data.DataLoader(dataset=test_dataset, \n",
    "                                          batch_size=batch_size, \n",
    "                                          shuffle=False)"
   ]
  },
  {
   "cell_type": "code",
   "execution_count": 8,
   "metadata": {},
   "outputs": [
    {
     "data": {
      "image/png": "[encoded data removed]",
      "text/plain": [
       "<Figure size 800x800 with 16 Axes>"
      ]
     },
     "metadata": {},
     "output_type": "display_data"
    }
   ],
   "source": [
    "# Visualise data\n",
    "dataiter = iter(train_loader)\n",
    "images, labels = next(dataiter)\n",
    "num_images = 16\n",
    "# Create plots\n",
    "fig, axs = plt.subplots(4, 4, figsize=(8, 8))\n",
    "axs = axs.flatten()\n",
    "for i in range(num_images):\n",
    "    # Convert to 1-D tensor\n",
    "    img = images[i].squeeze()\n",
    "    # Images have 1 channel i.e. greyscale so need to use \"gray\" mapping\n",
    "    axs[i].imshow(img, cmap='gray')\n",
    "    axs[i].title.set_text('Label: ' + str(labels[i].item()))\n",
    "    axs[i].axis('off')  # Hide axis\n",
    "plt.show()"
   ]
  },
  {
   "attachments": {},
   "cell_type": "markdown",
   "metadata": {},
   "source": [
    "Using ```squeeze```, we convert each image in a batch to a 1D tensor of i.e. originally we would have ```[128, 1, 28, 28]```, but after squeeze we have ```[128, 28, 28]```. Note that the $128$ refers to the *batch size*, the $\\left[28, 28\\right]$ refers to the *image dimension* and the $1$ refers to the tensor structure. Also, if we look at ```len(dataiter)```, we obtain $468$ - this number refers to the number image collections present (where in each collectin, we select a batch of $128$ images from the entire dataset). Hence, the number of total images in the entire MNIST dataset can be calculated as ```(len(iter(train_loader)) + len(iter(test_loader))) x 128```, which gives us $70016$."
   ]
  },
  {
   "attachments": {},
   "cell_type": "markdown",
   "metadata": {},
   "source": [
    "### 3. Create Model"
   ]
  },
  {
   "attachments": {},
   "cell_type": "markdown",
   "metadata": {},
   "source": [
    "- Once the data is ready, we can now look to choose what kind of model we want to create.\n",
    "- For this notebook, we will implement a CNN. Other models exist e.g. Recurrent Neural Network (RNN) etc..."
   ]
  },
  {
   "cell_type": "code",
   "execution_count": 27,
   "metadata": {},
   "outputs": [],
   "source": [
    "# Create CNN\n",
    "class CNN_Long(nn.Module):\n",
    "    def __init__(self):\n",
    "        super(CNN_Long, self).__init__()\n",
    "        # Convolution Layer 1\n",
    "        self.cnn1 = nn.Conv2d(in_channels=1, out_channels=16, kernel_size=5, stride=1, padding=2)\n",
    "        self.relu1 = nn.ReLU()\n",
    "        self.maxpool1 = nn.MaxPool2d(kernel_size=2)\n",
    "        # Convolution Layer 2\n",
    "        self.cnn2 = nn.Conv2d(in_channels=16, out_channels=32, kernel_size=5, stride=1, padding=2)\n",
    "        self.relu2 = nn.ReLU()\n",
    "        self.maxpool2 = nn.MaxPool2d(kernel_size=2)\n",
    "        # Linear Function (applied to convolution layer output) i.e. pre-activation first hidden layer.\n",
    "        self.fc1 = nn.Linear(32 * 7 * 7, 10) \n",
    "\n",
    "    def forward(self, x):\n",
    "        # Convolution Layer 1\n",
    "        out = self.cnn1(x)\n",
    "        out = self.relu1(out)\n",
    "        out = self.maxpool1(out)\n",
    "        # Convolution Layer 1\n",
    "        out = self.cnn2(out)\n",
    "        out = self.relu2(out)\n",
    "        out = self.maxpool2(out)\n",
    "        # Original size: (128, 32, 7, 7) --> New out size: (128, 32*7*7)\n",
    "        out = out.view(out.size(0), -1)\n",
    "        # Linear Function (applied to convolution layer output) i.e. pre-activation first hidden layer.\n",
    "        out = self.fc1(out)\n",
    "        return out"
   ]
  },
  {
   "attachments": {},
   "cell_type": "markdown",
   "metadata": {},
   "source": [
    "Using ```nn.LogSoftmax``` than ```nn.Softmax``` helps improve numerical stability.\n",
    "We can condense the architecture above by using ```nn.Sequential``` in the ```__init__``` step:"
   ]
  },
  {
   "cell_type": "code",
   "execution_count": 28,
   "metadata": {},
   "outputs": [],
   "source": [
    "# Create CNN\n",
    "class CNN_Short(nn.Module):\n",
    "    def __init__(self):\n",
    "        # Allows for multiple inheritance\n",
    "        super(CNN_Short, self).__init__()\n",
    "        # Create network\n",
    "        self.net1 = nn.Sequential(nn.Conv2d(in_channels=1, out_channels=16, kernel_size=5, stride=1, padding=2),\n",
    "                                 nn.ReLU(),\n",
    "                                 nn.MaxPool2d(kernel_size=2),\n",
    "                                 nn.Conv2d(in_channels=16, out_channels=32, kernel_size=5, stride=1, padding=2),\n",
    "                                 nn.ReLU(),\n",
    "                                 nn.MaxPool2d(kernel_size=2))\n",
    "        self.net2 = nn.Linear(32 * 7 * 7, 10)\n",
    "\n",
    "    def forward(self, x: torch.Tensor):\n",
    "        # Create network\n",
    "        out = self.net1(x)\n",
    "        # Original size: (128, 32, 7, 7) --> New out size: (128, 32*7*7)\n",
    "        out = out.view(out.size(0), -1)\n",
    "        # Linear Function (applied to convolution layer output) i.e. pre-activation first hidden layer.\n",
    "        out = self.net2(out)\n",
    "        return out"
   ]
  },
  {
   "attachments": {},
   "cell_type": "markdown",
   "metadata": {},
   "source": [
    "The reason that ```nn.LogSoftmax``` has been removed is because later on, we will be defining our loss as ```nn.CrossEntropyLoss```, which takes into account the ```nn.LogSoftmax``` calculation."
   ]
  },
  {
   "attachments": {},
   "cell_type": "markdown",
   "metadata": {},
   "source": [
    "### 4. Instantiate Model Class"
   ]
  },
  {
   "attachments": {},
   "cell_type": "markdown",
   "metadata": {},
   "source": [
    "- Now the architecture and data are in the correct form, we can being initialise our class.\n",
    "- Once this is complete, we can begin training.\n",
    "- We may run into some errors from time to time - this usually occurs because of incompatible dimensions or incorrect data types so be sure to fix these."
   ]
  },
  {
   "cell_type": "code",
   "execution_count": 29,
   "metadata": {},
   "outputs": [],
   "source": [
    "# Create model\n",
    "model = CNN_Short()"
   ]
  },
  {
   "attachments": {},
   "cell_type": "markdown",
   "metadata": {},
   "source": [
    "### 5. Instantiate Optimiser and Loss Function"
   ]
  },
  {
   "attachments": {},
   "cell_type": "markdown",
   "metadata": {},
   "source": [
    "- In order to update our weights (to find the optimal ones) and track the model performance, we need to choose an optimiser and loss function.\n",
    "- The loss function is typically straightforward (as it depends on the machine learning task) however there are a plethora of optimisers you could use e.g. SGD, Adam etc... Usually this is a trial and error choice to find the *best* one."
   ]
  },
  {
   "cell_type": "code",
   "execution_count": 30,
   "metadata": {},
   "outputs": [],
   "source": [
    "# Instantiate loss function\n",
    "loss_fn = nn.CrossEntropyLoss()\n",
    "# Instantiate optimiser\n",
    "opt = torch.optim.Adam(params=model.parameters())"
   ]
  },
  {
   "attachments": {},
   "cell_type": "markdown",
   "metadata": {},
   "source": [
    "It is important to recognise that ```model.parameters()``` are the parameters that we wish to update/optimise. If these are not correctly defined in the ```__init__```, then the network may not be fully functional."
   ]
  },
  {
   "attachments": {},
   "cell_type": "markdown",
   "metadata": {},
   "source": [
    "### 6. Model Training"
   ]
  },
  {
   "attachments": {},
   "cell_type": "markdown",
   "metadata": {},
   "source": [
    "- We are now ready to train the model.\n",
    "- Through training, it is also useful to record some metrics to see how the model is performing.\n",
    "- We use the loss of model to dictate potential *early stopping* of the model (although we could use other measures as well) i.e. if the model loss starts increasing after it has decreased, we are potentially overfitting and so should stop training and keep the model at that instance. This can be applied per ```epoch``` or at some multiple of ```n_iters```.\n",
    "- When evaluating the model, it is necessary to apply ```model.eval()``` along with ```torch.no_grad()``` and once this is complete, to apply ```model.train()``` after if the model architecture includes layers of ```dropout```, ```batch_normalisation``` etc...\n",
    "- The training and evaluation phase below is a generalised architecture; there are other variations of this which you may want to experiment with!"
   ]
  },
  {
   "cell_type": "code",
   "execution_count": 31,
   "metadata": {},
   "outputs": [],
   "source": [
    "# Calculate number of epochs\n",
    "n_iters = 15000\n",
    "num_epochs = n_iters / (len(train_dataset) / batch_size)\n",
    "num_epochs = int(num_epochs)"
   ]
  },
  {
   "cell_type": "code",
   "execution_count": 32,
   "metadata": {},
   "outputs": [],
   "source": [
    "# Initialize the early stopping parameters\n",
    "best_val_loss = float('inf') \n",
    "patience = 3\n",
    "epochs_no_improve = 0\n",
    "early_stop = False"
   ]
  },
  {
   "cell_type": "code",
   "execution_count": 33,
   "metadata": {},
   "outputs": [
    {
     "name": "stdout",
     "output_type": "stream",
     "text": [
      "Epoch: 0 | Validation loss: 10.514980375766754 | Validation accuracy: 96.73332977294922\n",
      "Epoch: 1 | Validation loss: 6.157938990741968 | Validation accuracy: 98.13333129882812\n",
      "Epoch: 2 | Validation loss: 5.270256502553821 | Validation accuracy: 98.44166564941406\n",
      "Epoch: 3 | Validation loss: 4.486941103124991 | Validation accuracy: 98.64167022705078\n",
      "Epoch: 4 | Validation loss: 4.166121706366539 | Validation accuracy: 98.71666717529297\n",
      "Epoch: 5 | Validation loss: 4.167645071167499 | Validation accuracy: 98.80000305175781\n",
      "Epoch: 6 | Validation loss: 3.710825164569542 | Validation accuracy: 98.85832977294922\n",
      "Epoch: 7 | Validation loss: 4.055937550263479 | Validation accuracy: 98.67500305175781\n",
      "Epoch: 8 | Validation loss: 3.534041949780658 | Validation accuracy: 98.88333129882812\n",
      "Epoch: 9 | Validation loss: 4.233171322615817 | Validation accuracy: 98.7249984741211\n",
      "Epoch: 10 | Validation loss: 4.043998267385177 | Validation accuracy: 98.82499694824219\n",
      "Epoch: 11 | Validation loss: 4.428129030391574 | Validation accuracy: 98.79166412353516\n"
     ]
    }
   ],
   "source": [
    "# Train model\n",
    "for epoch in range(num_epochs):\n",
    "    # Iterate through entire collection (per batch)\n",
    "    for images, labels in train_loader:\n",
    "        # Clear gradients with respect to parameters\n",
    "        opt.zero_grad()\n",
    "        # Forward pass\n",
    "        outputs = model(images)\n",
    "        # Calculate loss\n",
    "        loss = loss_fn(outputs, labels)\n",
    "        # Backward pass\n",
    "        loss.backward()\n",
    "        # Parameter update\n",
    "        opt.step()\n",
    "    # Evaluate model (NOTE: In the evaluation phase, the model parameters do not need updating!)\n",
    "    with torch.no_grad():\n",
    "        # Initialise validation loss \n",
    "        val_loss = 0\n",
    "        # Initialise secondary metric\n",
    "        correct = 0\n",
    "        # Iterate through entire collection (per batch)\n",
    "        for images, labels in val_loader: \n",
    "            # Forward pass\n",
    "            outputs = model(images)\n",
    "            # Obtain predictons\n",
    "            _, preds = torch.max(outputs.data, dim=1)\n",
    "            # Total correct predictions\n",
    "            correct += (preds == labels).sum()\n",
    "            # Calculate loss\n",
    "            loss = loss_fn(outputs, labels)\n",
    "            # Accumulate loss\n",
    "            val_loss += loss.item()\n",
    "        # Record secondary metric\n",
    "        val_acc_score = 100 * correct / len(val_loader.dataset)\n",
    "        # Print loss and accuracy\n",
    "        print(f\"Epoch: {epoch} | Validation loss: {val_loss} | Validation accuracy: {val_acc_score}\")\n",
    "        # If the validation loss is at a new minimum, save the model\n",
    "        if val_loss < best_val_loss:\n",
    "            torch.save(model.state_dict(), 'best_model.pth')\n",
    "            best_val_loss = val_loss\n",
    "            epochs_no_improve = 0\n",
    "        # If the validation loss is not improving for certain patience, stop training!\n",
    "        else:\n",
    "            epochs_no_improve += 1\n",
    "            if epochs_no_improve == patience:\n",
    "                early_stop = True\n",
    "                break"
   ]
  },
  {
   "attachments": {},
   "cell_type": "markdown",
   "metadata": {},
   "source": [
    "If the validation loss is displaying ```inf```, then something has gone wrong with the data or the model - debug the code to check which! "
   ]
  },
  {
   "cell_type": "code",
   "execution_count": 34,
   "metadata": {},
   "outputs": [
    {
     "data": {
      "text/plain": [
       "<All keys matched successfully>"
      ]
     },
     "execution_count": 34,
     "metadata": {},
     "output_type": "execute_result"
    }
   ],
   "source": [
    "# Load saved model\n",
    "model.load_state_dict(torch.load('best_model.pth')) "
   ]
  },
  {
   "attachments": {},
   "cell_type": "markdown",
   "metadata": {},
   "source": [
    "### 7. Model Testing"
   ]
  },
  {
   "attachments": {},
   "cell_type": "markdown",
   "metadata": {},
   "source": [
    "- Now that the model has been trained and evaluated, we can test the optimal model on unseen data.\n",
    "- This is a crucial part as it shows whether or not the model is generalisable i.e. has low variance."
   ]
  },
  {
   "cell_type": "code",
   "execution_count": 36,
   "metadata": {},
   "outputs": [
    {
     "name": "stdout",
     "output_type": "stream",
     "text": [
      "Test accuracy: 99.0999984741211\n"
     ]
    }
   ],
   "source": [
    "# Test model\n",
    "correct = 0\n",
    "for images, labels in test_loader: \n",
    "    # Forward pass\n",
    "    outputs = model(images)\n",
    "    # Obtain predictons\n",
    "    _, preds = torch.max(outputs.data, dim=1)\n",
    "    # Total correct predictions\n",
    "    correct += (preds == labels).sum()\n",
    "# Record secondary metric\n",
    "test_acc_score = 100 * correct / len(test_dataset)\n",
    "print(f\"Test accuracy: {test_acc_score}\")"
   ]
  },
  {
   "cell_type": "code",
   "execution_count": 37,
   "metadata": {},
   "outputs": [
    {
     "data": {
      "image/png": "[encoded data removed]",
      "text/plain": [
       "<Figure size 640x480 with 4 Axes>"
      ]
     },
     "metadata": {},
     "output_type": "display_data"
    }
   ],
   "source": [
    "# Visualise predictions\n",
    "images, labels = next(iter(test_loader))\n",
    "# Predict labels for the test images\n",
    "with torch.no_grad():\n",
    "    outputs = model(images)\n",
    "    _, predicted = torch.max(outputs, 1)  \n",
    "# Plot the images with their predicted labels\n",
    "for i in range(4):\n",
    "    plt.subplot(2, 2, i+1)\n",
    "    plt.imshow(images[i].view(28, 28), cmap='gray') \n",
    "    plt.title(f\"Predicted: {predicted[i]}, Actual: {labels[i]}\")\n",
    "    plt.axis('off')\n",
    "plt.show()"
   ]
  },
  {
   "attachments": {},
   "cell_type": "markdown",
   "metadata": {},
   "source": [
    "Note that using accuracy may not be the best metric to use to quantify the model performance - there are other metrics we can use e.g. F-1, Precision etc... Additionally, the shape of the images being passed into the model is the standard ```[128, 1, 28, 28]```, rather than ```[128, 28, 28]``` (which is the input to a FFNN that takes in a ```[28, 28]``` tensor, not ```[1, 28, 28]``` tensor)."
   ]
  },
  {
   "attachments": {},
   "cell_type": "markdown",
   "metadata": {},
   "source": [
    "## Final Remarks"
   ]
  },
  {
   "attachments": {},
   "cell_type": "markdown",
   "metadata": {},
   "source": [
    "Thank you for reading this notebook. Note that there are other implementations of feed-forward neural networks (which I would advise you to take a look at to see any differences of similarities with this version).\n",
    "If there are any mistakes or things that need more clarity, feel free to respond and I will be happy to reply 😊.\n",
    "\n",
    "© *PolyNath 2023*"
   ]
  }
 ],
 "metadata": {
  "kernelspec": {
   "display_name": "ucl-bdl-2022",
   "language": "python",
   "name": "ucl-bdl-2022"
  },
  "language_info": {
   "codemirror_mode": {
    "name": "ipython",
    "version": 3
   },
   "file_extension": ".py",
   "mimetype": "text/x-python",
   "name": "python",
   "nbconvert_exporter": "python",
   "pygments_lexer": "ipython3",
   "version": "3.8.15"
  }
 },
 "nbformat": 4,
 "nbformat_minor": 2
}
