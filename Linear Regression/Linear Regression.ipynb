{
 "cells": [
  {
   "cell_type": "markdown",
   "id": "6d28c3a7",
   "metadata": {
    "_kg_hide-input": false,
    "papermill": {
     "duration": 0.039572,
     "end_time": "2021-09-01T21:26:40.273940",
     "exception": false,
     "start_time": "2021-09-01T21:26:40.234368",
     "status": "completed"
    },
    "tags": []
   },
   "source": [
    "<center> <h1>📈 Linear Regression 📈 </h1> </center> "
   ]
  },
  {
   "cell_type": "markdown",
   "id": "7b987417",
   "metadata": {
    "papermill": {
     "duration": 0.037314,
     "end_time": "2021-09-01T21:26:40.349712",
     "exception": false,
     "start_time": "2021-09-01T21:26:40.312398",
     "status": "completed"
    },
    "tags": []
   },
   "source": [
    "<p> <center> This notebook is in <span style=\"color: green\"> <b> Active </b> </span> state of development! </center> </p>  \n",
    "<p> <center> Be sure to checkout my other notebooks for <span style=\"color: blue\"> <b> knowledge, insight and laughter </b> </span>! 🧠💡😂</center> </p> "
   ]
  },
  {
   "cell_type": "markdown",
   "id": "37f17fd7",
   "metadata": {
    "execution": {
     "iopub.execute_input": "2021-08-25T22:19:55.892978Z",
     "iopub.status.busy": "2021-08-25T22:19:55.892421Z",
     "iopub.status.idle": "2021-08-25T22:19:55.902473Z",
     "shell.execute_reply": "2021-08-25T22:19:55.900263Z",
     "shell.execute_reply.started": "2021-08-25T22:19:55.892934Z"
    },
    "papermill": {
     "duration": 0.03917,
     "end_time": "2021-09-01T21:26:40.426487",
     "exception": false,
     "start_time": "2021-09-01T21:26:40.387317",
     "status": "completed"
    },
    "tags": []
   },
   "source": [
    "<center> <img src=\"https://www.mihaileric.com/static/linear_regression_joke-9400ea8c70e0500f1934f7a22c86bc68-b75a8.png\" width=\"550\" height=\"550\" /> </center> "
   ]
  },
  {
   "cell_type": "markdown",
   "id": "ebf49438",
   "metadata": {
    "papermill": {
     "duration": 0.037548,
     "end_time": "2021-09-01T21:26:40.502737",
     "exception": false,
     "start_time": "2021-09-01T21:26:40.465189",
     "status": "completed"
    },
    "tags": []
   },
   "source": [
    "<hr style=\"height:2px;border-width:0;color:gray;background-color:gray\">"
   ]
  },
  {
   "cell_type": "markdown",
   "id": "e9f4b9aa",
   "metadata": {
    "papermill": {
     "duration": 0.03749,
     "end_time": "2021-09-01T21:26:40.578276",
     "exception": false,
     "start_time": "2021-09-01T21:26:40.540786",
     "status": "completed"
    },
    "tags": []
   },
   "source": [
    "# Aim"
   ]
  },
  {
   "cell_type": "markdown",
   "id": "70edf293",
   "metadata": {
    "papermill": {
     "duration": 0.037294,
     "end_time": "2021-09-01T21:26:40.653196",
     "exception": false,
     "start_time": "2021-09-01T21:26:40.615902",
     "status": "completed"
    },
    "tags": []
   },
   "source": [
    "The aim is to provide, from scratch, code implementations for linear regression problems. This will involve both the main functions needed to solve a linear regression and some additional utility functions as well.\n",
    "\n",
    "**Note**: We will not be diving into in-depth exploratory data analysis, feature engineering etc... in these notebooks and so will not be commenting extensively on things such as skewness, kurtosis, homoscedasticity etc..."
   ]
  },
  {
   "cell_type": "markdown",
   "id": "3ffa52f7",
   "metadata": {
    "papermill": {
     "duration": 0.044262,
     "end_time": "2021-09-01T21:26:40.735767",
     "exception": false,
     "start_time": "2021-09-01T21:26:40.691505",
     "status": "completed"
    },
    "tags": []
   },
   "source": [
    "<hr style=\"height:2px;border-width:0;color:gray;background-color:gray\">"
   ]
  },
  {
   "cell_type": "markdown",
   "id": "f6a23aa9",
   "metadata": {
    "papermill": {
     "duration": 0.037904,
     "end_time": "2021-09-01T21:26:40.820879",
     "exception": false,
     "start_time": "2021-09-01T21:26:40.782975",
     "status": "completed"
    },
    "tags": []
   },
   "source": [
    "# Background"
   ]
  },
  {
   "attachments": {
    "8307e1ae-af5e-4791-8c54-728624876e60.png": {
     "image/png": "[encoded data removed]"
    }
   },
   "cell_type": "markdown",
   "id": "e1b191ca",
   "metadata": {
    "papermill": {
     "duration": 0.038197,
     "end_time": "2021-09-01T21:26:40.971895",
     "exception": false,
     "start_time": "2021-09-01T21:26:40.933698",
     "status": "completed"
    },
    "tags": []
   },
   "source": [
    "![image.png](attachment:8307e1ae-af5e-4791-8c54-728624876e60.png)"
   ]
  },
  {
   "cell_type": "markdown",
   "id": "214c75a1",
   "metadata": {
    "papermill": {
     "duration": 0.037417,
     "end_time": "2021-09-01T21:26:41.365783",
     "exception": false,
     "start_time": "2021-09-01T21:26:41.328366",
     "status": "completed"
    },
    "tags": []
   },
   "source": [
    "<hr style=\"height:2px;border-width:0;color:gray;background-color:gray\">"
   ]
  },
  {
   "cell_type": "markdown",
   "id": "cea10a1b",
   "metadata": {},
   "source": [
    "# Code"
   ]
  },
  {
   "cell_type": "markdown",
   "id": "73d7e303",
   "metadata": {
    "_kg_hide-input": false,
    "papermill": {
     "duration": 0.037725,
     "end_time": "2021-09-01T21:26:41.441225",
     "exception": false,
     "start_time": "2021-09-01T21:26:41.403500",
     "status": "completed"
    },
    "tags": []
   },
   "source": [
    "## Import Modules"
   ]
  },
  {
   "cell_type": "code",
   "execution_count": 26,
   "id": "ecae1ae8",
   "metadata": {
    "_kg_hide-input": false,
    "execution": {
     "iopub.execute_input": "2021-09-01T21:26:41.521147Z",
     "iopub.status.busy": "2021-09-01T21:26:41.519976Z",
     "iopub.status.idle": "2021-09-01T21:26:42.637808Z",
     "shell.execute_reply": "2021-09-01T21:26:42.636474Z",
     "shell.execute_reply.started": "2021-08-28T16:50:30.818071Z"
    },
    "papermill": {
     "duration": 1.15899,
     "end_time": "2021-09-01T21:26:42.638003",
     "exception": false,
     "start_time": "2021-09-01T21:26:41.479013",
     "status": "completed"
    },
    "tags": []
   },
   "outputs": [],
   "source": [
    "# Importing standard packages\n",
    "import numpy as np\n",
    "import pandas as pd\n",
    "import matplotlib.pyplot as plt\n",
    "import seaborn as sns\n",
    "from typing import Union\n",
    "from sklearn.model_selection import train_test_split\n",
    "from sklearn.metrics import r2_score\n",
    "from sklearn.linear_model import LinearRegression"
   ]
  },
  {
   "cell_type": "markdown",
   "id": "51af9f22",
   "metadata": {
    "papermill": {
     "duration": 0.042732,
     "end_time": "2021-09-01T21:26:42.718995",
     "exception": false,
     "start_time": "2021-09-01T21:26:42.676263",
     "status": "completed"
    },
    "tags": []
   },
   "source": [
    "## Data Collection"
   ]
  },
  {
   "cell_type": "code",
   "execution_count": 2,
   "id": "499e2621",
   "metadata": {
    "execution": {
     "iopub.execute_input": "2021-09-01T21:26:42.823161Z",
     "iopub.status.busy": "2021-09-01T21:26:42.822496Z",
     "iopub.status.idle": "2021-09-01T21:26:42.855079Z",
     "shell.execute_reply": "2021-09-01T21:26:42.854506Z",
     "shell.execute_reply.started": "2021-08-28T16:50:30.82532Z"
    },
    "papermill": {
     "duration": 0.087108,
     "end_time": "2021-09-01T21:26:42.855232",
     "exception": false,
     "start_time": "2021-09-01T21:26:42.768124",
     "status": "completed"
    },
    "tags": []
   },
   "outputs": [],
   "source": [
    "# Import data\n",
    "df_1 = pd.read_csv('lin_train.csv')\n",
    "df_2 = pd.read_csv('lin_test.csv')"
   ]
  },
  {
   "cell_type": "code",
   "execution_count": 3,
   "id": "c9b700bd",
   "metadata": {},
   "outputs": [],
   "source": [
    "# Rename columns\n",
    "df_1.columns = [\"Number of Hours Worked\", \"Income\"]\n",
    "df_2.columns = [\"Number of Hours Worked\", \"Income\"]"
   ]
  },
  {
   "cell_type": "markdown",
   "id": "4b4434a4",
   "metadata": {
    "papermill": {
     "duration": 0.037627,
     "end_time": "2021-09-01T21:26:42.931093",
     "exception": false,
     "start_time": "2021-09-01T21:26:42.893466",
     "status": "completed"
    },
    "tags": []
   },
   "source": [
    "## Data Processing"
   ]
  },
  {
   "cell_type": "code",
   "execution_count": 4,
   "id": "fc149d69",
   "metadata": {
    "execution": {
     "iopub.execute_input": "2021-09-01T21:26:43.015754Z",
     "iopub.status.busy": "2021-09-01T21:26:43.014788Z",
     "iopub.status.idle": "2021-09-01T21:26:43.017222Z",
     "shell.execute_reply": "2021-09-01T21:26:43.017750Z",
     "shell.execute_reply.started": "2021-08-28T16:50:30.850743Z"
    },
    "papermill": {
     "duration": 0.049137,
     "end_time": "2021-09-01T21:26:43.017968",
     "exception": false,
     "start_time": "2021-09-01T21:26:42.968831",
     "status": "completed"
    },
    "tags": []
   },
   "outputs": [],
   "source": [
    "# Join data into one dataframe \n",
    "df = pd.concat((df_1, df_2), axis=0).reset_index(drop=True)"
   ]
  },
  {
   "cell_type": "code",
   "execution_count": 5,
   "id": "2262a9be",
   "metadata": {
    "execution": {
     "iopub.execute_input": "2021-09-01T21:26:43.116276Z",
     "iopub.status.busy": "2021-09-01T21:26:43.115455Z",
     "iopub.status.idle": "2021-09-01T21:26:43.119859Z",
     "shell.execute_reply": "2021-09-01T21:26:43.119257Z",
     "shell.execute_reply.started": "2021-08-28T16:50:30.858957Z"
    },
    "papermill": {
     "duration": 0.063885,
     "end_time": "2021-09-01T21:26:43.120007",
     "exception": false,
     "start_time": "2021-09-01T21:26:43.056122",
     "status": "completed"
    },
    "tags": []
   },
   "outputs": [
    {
     "name": "stdout",
     "output_type": "stream",
     "text": [
      "<class 'pandas.core.frame.DataFrame'>\n",
      "RangeIndex: 1000 entries, 0 to 999\n",
      "Data columns (total 2 columns):\n",
      " #   Column                  Non-Null Count  Dtype  \n",
      "---  ------                  --------------  -----  \n",
      " 0   Number of Hours Worked  1000 non-null   float64\n",
      " 1   Income                  999 non-null    float64\n",
      "dtypes: float64(2)\n",
      "memory usage: 15.8 KB\n"
     ]
    }
   ],
   "source": [
    "# Check for Nulls and dtype of dataframe\n",
    "df.info()"
   ]
  },
  {
   "cell_type": "code",
   "execution_count": 6,
   "id": "3ffd9259",
   "metadata": {
    "execution": {
     "iopub.execute_input": "2021-09-01T21:26:43.208403Z",
     "iopub.status.busy": "2021-09-01T21:26:43.207488Z",
     "iopub.status.idle": "2021-09-01T21:26:43.211877Z",
     "shell.execute_reply": "2021-09-01T21:26:43.211292Z",
     "shell.execute_reply.started": "2021-08-28T16:50:30.879241Z"
    },
    "papermill": {
     "duration": 0.052561,
     "end_time": "2021-09-01T21:26:43.212026",
     "exception": false,
     "start_time": "2021-09-01T21:26:43.159465",
     "status": "completed"
    },
    "tags": []
   },
   "outputs": [
    {
     "data": {
      "text/plain": [
       "Number of Hours Worked    0\n",
       "Income                    1\n",
       "dtype: int64"
      ]
     },
     "execution_count": 6,
     "metadata": {},
     "output_type": "execute_result"
    }
   ],
   "source": [
    "# Check for NaNs\n",
    "df.isna().sum()"
   ]
  },
  {
   "cell_type": "code",
   "execution_count": 7,
   "id": "443d63d2",
   "metadata": {},
   "outputs": [
    {
     "data": {
      "text/plain": [
       "(array([213]), array([1]))"
      ]
     },
     "execution_count": 7,
     "metadata": {},
     "output_type": "execute_result"
    }
   ],
   "source": [
    "# Check where the NaN exists\n",
    "np.where(df.isna())"
   ]
  },
  {
   "cell_type": "code",
   "execution_count": 8,
   "id": "3d25432c",
   "metadata": {},
   "outputs": [
    {
     "data": {
      "text/plain": [
       "Number of Hours Worked    3530.157369\n",
       "Income                            NaN\n",
       "Name: 213, dtype: float64"
      ]
     },
     "execution_count": 8,
     "metadata": {},
     "output_type": "execute_result"
    }
   ],
   "source": [
    "df.loc[213]"
   ]
  },
  {
   "cell_type": "code",
   "execution_count": 9,
   "id": "c28ab484",
   "metadata": {
    "execution": {
     "iopub.execute_input": "2021-09-01T21:26:43.294336Z",
     "iopub.status.busy": "2021-09-01T21:26:43.293633Z",
     "iopub.status.idle": "2021-09-01T21:26:43.299964Z",
     "shell.execute_reply": "2021-09-01T21:26:43.299349Z",
     "shell.execute_reply.started": "2021-08-28T16:52:11.493857Z"
    },
    "papermill": {
     "duration": 0.049151,
     "end_time": "2021-09-01T21:26:43.300101",
     "exception": false,
     "start_time": "2021-09-01T21:26:43.250950",
     "status": "completed"
    },
    "tags": []
   },
   "outputs": [
    {
     "data": {
      "text/plain": [
       "0"
      ]
     },
     "execution_count": 9,
     "metadata": {},
     "output_type": "execute_result"
    }
   ],
   "source": [
    "# Check for duplicates\n",
    "df.duplicated().sum()"
   ]
  },
  {
   "cell_type": "markdown",
   "id": "87e1981f",
   "metadata": {
    "papermill": {
     "duration": 0.038692,
     "end_time": "2021-09-01T21:26:43.378679",
     "exception": false,
     "start_time": "2021-09-01T21:26:43.339987",
     "status": "completed"
    },
    "tags": []
   },
   "source": [
    "**Note:** Make sure that you do not remove lots of datapoints due to the NaN or missing value issues. It may be better to impute them."
   ]
  },
  {
   "cell_type": "code",
   "execution_count": 10,
   "id": "fc952af3",
   "metadata": {
    "execution": {
     "iopub.execute_input": "2021-09-01T21:26:43.463437Z",
     "iopub.status.busy": "2021-09-01T21:26:43.462793Z",
     "iopub.status.idle": "2021-09-01T21:26:43.482466Z",
     "shell.execute_reply": "2021-09-01T21:26:43.481882Z",
     "shell.execute_reply.started": "2021-08-28T16:50:30.893765Z"
    },
    "papermill": {
     "duration": 0.064773,
     "end_time": "2021-09-01T21:26:43.482634",
     "exception": false,
     "start_time": "2021-09-01T21:26:43.417861",
     "status": "completed"
    },
    "tags": []
   },
   "outputs": [],
   "source": [
    "# Drop NaNs and duplicates\n",
    "df = df.dropna().drop_duplicates()"
   ]
  },
  {
   "cell_type": "code",
   "execution_count": 11,
   "id": "e246345e",
   "metadata": {
    "execution": {
     "iopub.execute_input": "2021-09-01T21:26:43.569253Z",
     "iopub.status.busy": "2021-09-01T21:26:43.568467Z",
     "iopub.status.idle": "2021-09-01T21:26:43.585762Z",
     "shell.execute_reply": "2021-09-01T21:26:43.586297Z",
     "shell.execute_reply.started": "2021-08-28T16:50:30.929215Z"
    },
    "papermill": {
     "duration": 0.064829,
     "end_time": "2021-09-01T21:26:43.586466",
     "exception": false,
     "start_time": "2021-09-01T21:26:43.521637",
     "status": "completed"
    },
    "tags": []
   },
   "outputs": [
    {
     "data": {
      "text/html": [
       "<div>\n",
       "<style scoped>\n",
       "    .dataframe tbody tr th:only-of-type {\n",
       "        vertical-align: middle;\n",
       "    }\n",
       "\n",
       "    .dataframe tbody tr th {\n",
       "        vertical-align: top;\n",
       "    }\n",
       "\n",
       "    .dataframe thead th {\n",
       "        text-align: right;\n",
       "    }\n",
       "</style>\n",
       "<table border=\"1\" class=\"dataframe\">\n",
       "  <thead>\n",
       "    <tr style=\"text-align: right;\">\n",
       "      <th></th>\n",
       "      <th>Number of Hours Worked</th>\n",
       "      <th>Income</th>\n",
       "    </tr>\n",
       "  </thead>\n",
       "  <tbody>\n",
       "    <tr>\n",
       "      <th>count</th>\n",
       "      <td>999.000000</td>\n",
       "      <td>999.000000</td>\n",
       "    </tr>\n",
       "    <tr>\n",
       "      <th>mean</th>\n",
       "      <td>50.291291</td>\n",
       "      <td>50.319804</td>\n",
       "    </tr>\n",
       "    <tr>\n",
       "      <th>std</th>\n",
       "      <td>28.808925</td>\n",
       "      <td>29.089111</td>\n",
       "    </tr>\n",
       "    <tr>\n",
       "      <th>min</th>\n",
       "      <td>0.000000</td>\n",
       "      <td>-3.839981</td>\n",
       "    </tr>\n",
       "    <tr>\n",
       "      <th>25%</th>\n",
       "      <td>25.000000</td>\n",
       "      <td>25.185430</td>\n",
       "    </tr>\n",
       "    <tr>\n",
       "      <th>50%</th>\n",
       "      <td>50.000000</td>\n",
       "      <td>49.926397</td>\n",
       "    </tr>\n",
       "    <tr>\n",
       "      <th>75%</th>\n",
       "      <td>74.500000</td>\n",
       "      <td>74.475252</td>\n",
       "    </tr>\n",
       "    <tr>\n",
       "      <th>max</th>\n",
       "      <td>100.000000</td>\n",
       "      <td>108.871618</td>\n",
       "    </tr>\n",
       "  </tbody>\n",
       "</table>\n",
       "</div>"
      ],
      "text/plain": [
       "       Number of Hours Worked      Income\n",
       "count              999.000000  999.000000\n",
       "mean                50.291291   50.319804\n",
       "std                 28.808925   29.089111\n",
       "min                  0.000000   -3.839981\n",
       "25%                 25.000000   25.185430\n",
       "50%                 50.000000   49.926397\n",
       "75%                 74.500000   74.475252\n",
       "max                100.000000  108.871618"
      ]
     },
     "execution_count": 11,
     "metadata": {},
     "output_type": "execute_result"
    }
   ],
   "source": [
    "# Overall statistics\n",
    "df.describe()"
   ]
  },
  {
   "cell_type": "markdown",
   "id": "ad55afda",
   "metadata": {
    "papermill": {
     "duration": 0.038974,
     "end_time": "2021-09-01T21:26:43.665078",
     "exception": false,
     "start_time": "2021-09-01T21:26:43.626104",
     "status": "completed"
    },
    "tags": []
   },
   "source": [
    "## Data Visualisations"
   ]
  },
  {
   "cell_type": "code",
   "execution_count": 12,
   "id": "0a964633",
   "metadata": {
    "execution": {
     "iopub.execute_input": "2021-09-01T21:26:43.746975Z",
     "iopub.status.busy": "2021-09-01T21:26:43.746359Z",
     "iopub.status.idle": "2021-09-01T21:26:43.961789Z",
     "shell.execute_reply": "2021-09-01T21:26:43.961183Z",
     "shell.execute_reply.started": "2021-08-28T16:50:30.956032Z"
    },
    "papermill": {
     "duration": 0.257544,
     "end_time": "2021-09-01T21:26:43.961947",
     "exception": false,
     "start_time": "2021-09-01T21:26:43.704403",
     "status": "completed"
    },
    "tags": []
   },
   "outputs": [
    {
     "data": {
      "image/png": "[encoded data removed]",
      "text/plain": [
       "<Figure size 640x480 with 2 Axes>"
      ]
     },
     "metadata": {},
     "output_type": "display_data"
    }
   ],
   "source": [
    "# Check for correlation\n",
    "sns.heatmap(df.corr(), annot = True, cmap=\"tab20c\");"
   ]
  },
  {
   "cell_type": "markdown",
   "id": "6e472dce",
   "metadata": {
    "papermill": {
     "duration": 0.039723,
     "end_time": "2021-09-01T21:26:44.042333",
     "exception": false,
     "start_time": "2021-09-01T21:26:44.002610",
     "status": "completed"
    },
    "tags": []
   },
   "source": [
    "A value of 1 (positive) suggests to us that there is an exact correlative match between the feature and the target variable and so a linear regression is a perfect fit for this dataset."
   ]
  },
  {
   "cell_type": "code",
   "execution_count": 13,
   "id": "52c3c845",
   "metadata": {
    "execution": {
     "iopub.execute_input": "2021-09-01T21:26:44.156053Z",
     "iopub.status.busy": "2021-09-01T21:26:44.146441Z",
     "iopub.status.idle": "2021-09-01T21:26:44.304762Z",
     "shell.execute_reply": "2021-09-01T21:26:44.304162Z",
     "shell.execute_reply.started": "2021-08-28T16:50:31.185104Z"
    },
    "papermill": {
     "duration": 0.222269,
     "end_time": "2021-09-01T21:26:44.304890",
     "exception": false,
     "start_time": "2021-09-01T21:26:44.082621",
     "status": "completed"
    },
    "tags": []
   },
   "outputs": [
    {
     "data": {
      "image/png": "[encoded data removed]",
      "text/plain": [
       "<Figure size 640x480 with 1 Axes>"
      ]
     },
     "metadata": {},
     "output_type": "display_data"
    }
   ],
   "source": [
    "# Plot data\n",
    "plt.xlabel('x')\n",
    "plt.ylabel('y')\n",
    "plt.title('Relationship between x and y')\n",
    "plt.plot(df.iloc[:,0],df.iloc[:,1],'ro', mec= 'k');\n",
    "plt.legend(['Dataset']);"
   ]
  },
  {
   "cell_type": "markdown",
   "id": "976145e5",
   "metadata": {
    "papermill": {
     "duration": 0.040624,
     "end_time": "2021-09-01T21:26:44.386742",
     "exception": false,
     "start_time": "2021-09-01T21:26:44.346118",
     "status": "completed"
    },
    "tags": []
   },
   "source": [
    "## Splitting dataset"
   ]
  },
  {
   "cell_type": "code",
   "execution_count": 14,
   "id": "db43453e",
   "metadata": {
    "execution": {
     "iopub.execute_input": "2021-09-01T21:26:44.556441Z",
     "iopub.status.busy": "2021-09-01T21:26:44.555759Z",
     "iopub.status.idle": "2021-09-01T21:26:44.558293Z",
     "shell.execute_reply": "2021-09-01T21:26:44.558763Z",
     "shell.execute_reply.started": "2021-08-28T16:50:31.367374Z"
    },
    "papermill": {
     "duration": 0.048936,
     "end_time": "2021-09-01T21:26:44.558950",
     "exception": false,
     "start_time": "2021-09-01T21:26:44.510014",
     "status": "completed"
    },
    "tags": []
   },
   "outputs": [],
   "source": [
    "# Separate features and target variable\n",
    "X = df.iloc[:,:-1]\n",
    "y = df.iloc[:,1]"
   ]
  },
  {
   "cell_type": "code",
   "execution_count": 15,
   "id": "93b5f2fc",
   "metadata": {
    "execution": {
     "iopub.execute_input": "2021-09-01T21:26:44.648616Z",
     "iopub.status.busy": "2021-09-01T21:26:44.647840Z",
     "iopub.status.idle": "2021-09-01T21:26:44.652206Z",
     "shell.execute_reply": "2021-09-01T21:26:44.652640Z",
     "shell.execute_reply.started": "2021-08-28T16:50:31.374533Z"
    },
    "papermill": {
     "duration": 0.052565,
     "end_time": "2021-09-01T21:26:44.652805",
     "exception": false,
     "start_time": "2021-09-01T21:26:44.600240",
     "status": "completed"
    },
    "tags": []
   },
   "outputs": [],
   "source": [
    "# Split the dataset into training and test set\n",
    "X_train, X_test, y_train, y_test = train_test_split(X, y, test_size=1/4, random_state=42)\n",
    "# Re-index\n",
    "X_train = X_train.reset_index(drop=True) \n",
    "y_train = y_train.reset_index(drop=True) \n",
    "X_test = X_test.reset_index(drop=True) \n",
    "y_test = y_test.reset_index(drop=True) "
   ]
  },
  {
   "cell_type": "code",
   "execution_count": 16,
   "id": "4d3eeccd",
   "metadata": {
    "execution": {
     "iopub.execute_input": "2021-09-01T21:26:44.743804Z",
     "iopub.status.busy": "2021-09-01T21:26:44.743181Z",
     "iopub.status.idle": "2021-09-01T21:26:44.746281Z",
     "shell.execute_reply": "2021-09-01T21:26:44.745741Z",
     "shell.execute_reply.started": "2021-08-28T16:50:31.387716Z"
    },
    "papermill": {
     "duration": 0.052317,
     "end_time": "2021-09-01T21:26:44.746420",
     "exception": false,
     "start_time": "2021-09-01T21:26:44.694103",
     "status": "completed"
    },
    "tags": []
   },
   "outputs": [],
   "source": [
    "# Add ones to the dataframes\n",
    "m,n = X_train.values.shape\n",
    "o,p = X_test.values.shape\n",
    "X_train_aug = pd.concat((pd.DataFrame(np.ones((m, 1)), columns= ['Bias']), X_train), axis=1)\n",
    "X_test_aug = pd.concat((pd.DataFrame(np.ones((o, 1)), columns= ['Bias']), X_test), axis=1)"
   ]
  },
  {
   "cell_type": "code",
   "execution_count": 17,
   "id": "218f8349",
   "metadata": {},
   "outputs": [],
   "source": [
    "# Convert into arrays\n",
    "X_train_aug = np.asarray(X_train_aug)\n",
    "y_train = np.asarray(y_train)\n",
    "X_test_aug = np.asarray(X_test_aug)\n",
    "y_test = np.asarray(y_test)"
   ]
  },
  {
   "cell_type": "markdown",
   "id": "06dfb724",
   "metadata": {
    "papermill": {
     "duration": 0.041086,
     "end_time": "2021-09-01T21:26:44.828831",
     "exception": false,
     "start_time": "2021-09-01T21:26:44.787745",
     "status": "completed"
    },
    "tags": []
   },
   "source": [
    "## Cost Function"
   ]
  },
  {
   "cell_type": "code",
   "execution_count": 30,
   "id": "3def1e85",
   "metadata": {
    "execution": {
     "iopub.execute_input": "2021-09-01T21:26:45.000731Z",
     "iopub.status.busy": "2021-09-01T21:26:45.000077Z",
     "iopub.status.idle": "2021-09-01T21:26:45.002543Z",
     "shell.execute_reply": "2021-09-01T21:26:45.001959Z",
     "shell.execute_reply.started": "2021-08-28T16:50:31.399346Z"
    },
    "papermill": {
     "duration": 0.050027,
     "end_time": "2021-09-01T21:26:45.002686",
     "exception": false,
     "start_time": "2021-09-01T21:26:44.952659",
     "status": "completed"
    },
    "tags": []
   },
   "outputs": [],
   "source": [
    "def lr_cost_1(X: Union[pd.DataFrame, np.array], y: Union[pd.Series, np.array], theta: np.array) -> float:\n",
    "\n",
    "    \"\"\"Return the Mean Squared Error of a linear regression model using vectorised notation.\"\"\"\n",
    "\n",
    "    # Retrieve feature dimensions\n",
    "    m, n = X.shape \n",
    "    # Calculate error \n",
    "    residual = y - X @ theta\n",
    "    # Calculate Cost Function \n",
    "    CF_LR = (1/m) * (residual.T @ residual)\n",
    "    # Return Cost Function\n",
    "    return CF_LR"
   ]
  },
  {
   "cell_type": "code",
   "execution_count": 31,
   "id": "2ef5c242",
   "metadata": {
    "execution": {
     "iopub.execute_input": "2021-09-01T21:26:46.851706Z",
     "iopub.status.busy": "2021-09-01T21:26:46.851051Z",
     "iopub.status.idle": "2021-09-01T21:26:46.853666Z",
     "shell.execute_reply": "2021-09-01T21:26:46.853033Z",
     "shell.execute_reply.started": "2021-08-28T16:50:31.694734Z"
    },
    "papermill": {
     "duration": 0.051343,
     "end_time": "2021-09-01T21:26:46.853798",
     "exception": false,
     "start_time": "2021-09-01T21:26:46.802455",
     "status": "completed"
    },
    "tags": []
   },
   "outputs": [],
   "source": [
    "def lr_cost_2(X: Union[pd.DataFrame, np.array], y: Union[pd.Series, np.array], theta: np.array) -> float:\n",
    "\n",
    "    \"\"\"Return the Mean Squared Error of a linear regression model using loops.\"\"\"\n",
    "    \n",
    "    # Retrieve feature dimensions\n",
    "    m, n = X.shape \n",
    "    # Initialise error\n",
    "    residual = 0\n",
    "    # Calculate squared error \n",
    "    for i in range(m):\n",
    "        residual += (y[i] - np.sum(X[:,i] * theta))**2\n",
    "    # Calculate mean squared error\n",
    "    CF_LR = np.mean(residual)\n",
    "    # Return Cost Function\n",
    "    return CF_LR"
   ]
  },
  {
   "cell_type": "markdown",
   "id": "8eefffc5",
   "metadata": {
    "papermill": {
     "duration": 0.040664,
     "end_time": "2021-09-01T21:26:45.084459",
     "exception": false,
     "start_time": "2021-09-01T21:26:45.043795",
     "status": "completed"
    },
    "tags": []
   },
   "source": [
    "## Theta/Co-efficient Estimates"
   ]
  },
  {
   "cell_type": "code",
   "execution_count": 23,
   "id": "6c129c4b",
   "metadata": {
    "execution": {
     "iopub.execute_input": "2021-09-01T21:26:45.253628Z",
     "iopub.status.busy": "2021-09-01T21:26:45.252827Z",
     "iopub.status.idle": "2021-09-01T21:26:45.254560Z",
     "shell.execute_reply": "2021-09-01T21:26:45.255011Z",
     "shell.execute_reply.started": "2021-08-28T16:50:31.409823Z"
    },
    "papermill": {
     "duration": 0.047945,
     "end_time": "2021-09-01T21:26:45.255185",
     "exception": false,
     "start_time": "2021-09-01T21:26:45.207240",
     "status": "completed"
    },
    "tags": []
   },
   "outputs": [],
   "source": [
    "def ls_ne(X: Union[pd.DataFrame, np.array], y: Union[pd.Series, np.array]) -> np.array:\n",
    "    \n",
    "    \"\"\" Return the maximum likelihood estimate from the normal equations. \"\"\"\n",
    "    \n",
    "    # Calculate estimator theta\n",
    "    return np.linalg.solve((X.T @ X), X.T @ y)"
   ]
  },
  {
   "cell_type": "markdown",
   "id": "f33a6c85",
   "metadata": {
    "papermill": {
     "duration": 0.04435,
     "end_time": "2021-09-01T21:26:45.341079",
     "exception": false,
     "start_time": "2021-09-01T21:26:45.296729",
     "status": "completed"
    },
    "tags": []
   },
   "source": [
    "## Regression Predictions"
   ]
  },
  {
   "cell_type": "code",
   "execution_count": 24,
   "id": "3e41877c",
   "metadata": {
    "execution": {
     "iopub.execute_input": "2021-09-01T21:26:45.426192Z",
     "iopub.status.busy": "2021-09-01T21:26:45.425523Z",
     "iopub.status.idle": "2021-09-01T21:26:45.429509Z",
     "shell.execute_reply": "2021-09-01T21:26:45.430075Z",
     "shell.execute_reply.started": "2021-08-28T16:50:31.423724Z"
    },
    "papermill": {
     "duration": 0.048129,
     "end_time": "2021-09-01T21:26:45.430256",
     "exception": false,
     "start_time": "2021-09-01T21:26:45.382127",
     "status": "completed"
    },
    "tags": []
   },
   "outputs": [],
   "source": [
    "def predict(X: Union[pd.DataFrame, np.array], y: Union[pd.Series, np.array], theta: np.array) -> Union[np.array, pd.Series]:\n",
    "    \n",
    "    \"\"\"Return model predictions.\"\"\"\n",
    "    \n",
    "    # Calculate predictions\n",
    "    return X @ theta_estimate"
   ]
  },
  {
   "cell_type": "markdown",
   "id": "4e6ba645",
   "metadata": {
    "papermill": {
     "duration": 0.041106,
     "end_time": "2021-09-01T21:26:45.513291",
     "exception": false,
     "start_time": "2021-09-01T21:26:45.472185",
     "status": "completed"
    },
    "tags": []
   },
   "source": [
    "## Full Linear Regression Model"
   ]
  },
  {
   "cell_type": "code",
   "execution_count": 27,
   "id": "11bb5a8a",
   "metadata": {
    "execution": {
     "iopub.execute_input": "2021-09-01T21:26:45.599938Z",
     "iopub.status.busy": "2021-09-01T21:26:45.599264Z",
     "iopub.status.idle": "2021-09-01T21:26:45.607188Z",
     "shell.execute_reply": "2021-09-01T21:26:45.607664Z",
     "shell.execute_reply.started": "2021-08-28T16:50:31.434304Z"
    },
    "papermill": {
     "duration": 0.052371,
     "end_time": "2021-09-01T21:26:45.607843",
     "exception": false,
     "start_time": "2021-09-01T21:26:45.555472",
     "status": "completed"
    },
    "tags": []
   },
   "outputs": [],
   "source": [
    "class LinearReg():\n",
    "    \n",
    "    def __init__(self):\n",
    "        \n",
    "        \"\"\"Initialise parameters.\"\"\"\n",
    "        \n",
    "        self.theta = None\n",
    "    \n",
    "    def fit(self, X: Union[pd.DataFrame, np.array], y: Union[pd.Series, np.array]) -> Union[pd.Series, np.array]:\n",
    "    \n",
    "        \"\"\"Return the maximum likelihood estimate from the normal equations.\"\"\"\n",
    "\n",
    "        # Calculate estimator theta\n",
    "        self.theta = np.linalg.solve((X.T @ X), X.T @ y)\n",
    "\n",
    "    def predict(self, X: Union[pd.DataFrame, np.array]) -> Union[pd.Series, np.array]:\n",
    "    \n",
    "        \"\"\"Return model predictions.\"\"\"\n",
    "\n",
    "        y_pred = X @ self.theta\n",
    "        # Return predictions\n",
    "        return y_pred"
   ]
  },
  {
   "cell_type": "markdown",
   "id": "d5cac725",
   "metadata": {
    "papermill": {
     "duration": 0.040561,
     "end_time": "2021-09-01T21:26:45.689810",
     "exception": false,
     "start_time": "2021-09-01T21:26:45.649249",
     "status": "completed"
    },
    "tags": []
   },
   "source": [
    "## Model Testing and Results"
   ]
  },
  {
   "cell_type": "code",
   "execution_count": 28,
   "id": "12c7e49e",
   "metadata": {
    "execution": {
     "iopub.execute_input": "2021-09-01T21:26:45.774833Z",
     "iopub.status.busy": "2021-09-01T21:26:45.774242Z",
     "iopub.status.idle": "2021-09-01T21:26:45.778245Z",
     "shell.execute_reply": "2021-09-01T21:26:45.777626Z",
     "shell.execute_reply.started": "2021-08-28T16:50:31.445824Z"
    },
    "papermill": {
     "duration": 0.047582,
     "end_time": "2021-09-01T21:26:45.778375",
     "exception": false,
     "start_time": "2021-09-01T21:26:45.730793",
     "status": "completed"
    },
    "tags": []
   },
   "outputs": [],
   "source": [
    "# Instantiate model\n",
    "pop_prof_model = LinearReg()"
   ]
  },
  {
   "cell_type": "code",
   "execution_count": 35,
   "id": "9130f224",
   "metadata": {
    "execution": {
     "iopub.execute_input": "2021-09-01T21:26:45.870292Z",
     "iopub.status.busy": "2021-09-01T21:26:45.869251Z",
     "iopub.status.idle": "2021-09-01T21:26:45.879857Z",
     "shell.execute_reply": "2021-09-01T21:26:45.880480Z",
     "shell.execute_reply.started": "2021-08-28T16:50:31.456729Z"
    },
    "papermill": {
     "duration": 0.060501,
     "end_time": "2021-09-01T21:26:45.880642",
     "exception": false,
     "start_time": "2021-09-01T21:26:45.820141",
     "status": "completed"
    },
    "tags": []
   },
   "outputs": [
    {
     "name": "stdout",
     "output_type": "stream",
     "text": [
      "Theta estimates are: [-0.29654476  1.00523472]\n",
      "Training dataset mean squared error: 8.08837597693405\n",
      "Test dataset mean squared error: 9.003332816736533\n",
      "Train dataset R2 score: 0.9904790394652241\n",
      "Test dataset R2 score: 0.9891879937675698\n"
     ]
    }
   ],
   "source": [
    "# Fit model to training dataset to obtain estimates\n",
    "pop_prof_model.fit(X_train_aug, y_train)\n",
    "# Obtain predictions for training and test dataset\n",
    "y_pred_train = pop_prof_model.predict(X_train_aug)\n",
    "y_pred_test = pop_prof_model.predict(X_test_aug)\n",
    "# Calculate MSE and R2 score on training and test dataset\n",
    "MSE_train = lr_cost_1(X_train_aug, y_train, pop_prof_model.theta)\n",
    "MSE_test = lr_cost_1(X_test_aug, y_test, pop_prof_model.theta)\n",
    "print(\"Theta estimates are: {}\".format(pop_prof_model.theta))\n",
    "print(\"Training dataset mean squared error: {}\".format(MSE_train))\n",
    "print(\"Test dataset mean squared error: {}\".format(MSE_test))\n",
    "print(\"Train dataset R2 score: {}\".format(r2_score(y_train,y_pred_train)))\n",
    "print(\"Test dataset R2 score: {}\".format(r2_score(y_test,y_pred_test)))"
   ]
  },
  {
   "cell_type": "code",
   "execution_count": 38,
   "id": "c5f4b386",
   "metadata": {
    "execution": {
     "iopub.execute_input": "2021-09-01T21:26:45.998221Z",
     "iopub.status.busy": "2021-09-01T21:26:45.987312Z",
     "iopub.status.idle": "2021-09-01T21:26:46.154741Z",
     "shell.execute_reply": "2021-09-01T21:26:46.154130Z",
     "shell.execute_reply.started": "2021-08-28T16:50:31.496425Z"
    },
    "papermill": {
     "duration": 0.232559,
     "end_time": "2021-09-01T21:26:46.154874",
     "exception": false,
     "start_time": "2021-09-01T21:26:45.922315",
     "status": "completed"
    },
    "tags": []
   },
   "outputs": [
    {
     "data": {
      "image/png": "[encoded data removed]",
      "text/plain": [
       "<Figure size 640x480 with 1 Axes>"
      ]
     },
     "metadata": {},
     "output_type": "display_data"
    }
   ],
   "source": [
    "# Plot test data against predictive model\n",
    "plt.xlabel('x')\n",
    "plt.ylabel('y')\n",
    "plt.title('Relationship between x and y')\n",
    "plt.plot(X_test,y_test,'ro', mec= 'k');\n",
    "plt.plot(X_test,y_pred_test,'-b', mec= 'k');\n",
    "plt.legend(['Dataset', 'Linear Regression']);"
   ]
  },
  {
   "cell_type": "markdown",
   "id": "c3d68fd1",
   "metadata": {},
   "source": [
    "## Comparison to Scikit-Learn"
   ]
  },
  {
   "cell_type": "code",
   "execution_count": 39,
   "id": "77faad47",
   "metadata": {},
   "outputs": [
    {
     "data": {
      "image/png": "[encoded data removed]",
      "text/plain": [
       "<Figure size 640x480 with 1 Axes>"
      ]
     },
     "metadata": {},
     "output_type": "display_data"
    }
   ],
   "source": [
    "# Fit the model to the data\n",
    "reg = LinearRegression().fit(X_train, y_train)\n",
    "# Predict the values for the input data\n",
    "y_pred = reg.predict(X_test)\n",
    "# Plot the input data and the model's predictions\n",
    "plt.scatter(X_test, y_test, color='black')\n",
    "plt.plot(X_test, y_pred, color='blue', linewidth=3)\n",
    "plt.show()"
   ]
  },
  {
   "cell_type": "code",
   "execution_count": 42,
   "id": "1ac75dbe",
   "metadata": {},
   "outputs": [
    {
     "data": {
      "text/plain": [
       "array([1.00523472])"
      ]
     },
     "execution_count": 42,
     "metadata": {},
     "output_type": "execute_result"
    }
   ],
   "source": [
    "# Check coefficients\n",
    "reg.coef_"
   ]
  },
  {
   "cell_type": "markdown",
   "id": "1a7c9dd1",
   "metadata": {
    "papermill": {
     "duration": 0.043475,
     "end_time": "2021-09-01T21:26:46.241431",
     "exception": false,
     "start_time": "2021-09-01T21:26:46.197956",
     "status": "completed"
    },
    "tags": []
   },
   "source": [
    "# Summary"
   ]
  },
  {
   "cell_type": "markdown",
   "id": "a176458f",
   "metadata": {
    "papermill": {
     "duration": 0.042241,
     "end_time": "2021-09-01T21:26:46.326438",
     "exception": false,
     "start_time": "2021-09-01T21:26:46.284197",
     "status": "completed"
    },
    "tags": []
   },
   "source": [
    "- The in-sample MSE (training) and out-sample MSE (test) are quite small in value and very close. \n",
    "- The out-sample is slightly higher than the in-sample, which may suggest a higher bias of the model as it is has trained/more suited to the training dataset.\n",
    "- The R2 score is extremely high (near 1) for both training and test set which means that the model nearly explains all the variation in the response variable around its mean."
   ]
  },
  {
   "cell_type": "markdown",
   "id": "d20e7f24",
   "metadata": {
    "papermill": {
     "duration": 0.042666,
     "end_time": "2021-09-01T21:26:46.411911",
     "exception": false,
     "start_time": "2021-09-01T21:26:46.369245",
     "status": "completed"
    },
    "tags": []
   },
   "source": [
    "<hr style=\"height:2px;border-width:0;color:gray;background-color:gray\">"
   ]
  },
  {
   "cell_type": "markdown",
   "id": "941e54e1",
   "metadata": {
    "papermill": {
     "duration": 0.042356,
     "end_time": "2021-09-01T21:26:46.497041",
     "exception": false,
     "start_time": "2021-09-01T21:26:46.454685",
     "status": "completed"
    },
    "tags": []
   },
   "source": [
    "# Extra"
   ]
  },
  {
   "cell_type": "markdown",
   "id": "500c8154",
   "metadata": {
    "papermill": {
     "duration": 0.042111,
     "end_time": "2021-09-01T21:26:46.582254",
     "exception": false,
     "start_time": "2021-09-01T21:26:46.540143",
     "status": "completed"
    },
    "tags": []
   },
   "source": [
    "To apply feature scaling on the feature dataset:"
   ]
  },
  {
   "cell_type": "code",
   "execution_count": null,
   "id": "ebf25c9e",
   "metadata": {
    "execution": {
     "iopub.execute_input": "2021-09-01T21:26:46.672909Z",
     "iopub.status.busy": "2021-09-01T21:26:46.672232Z",
     "iopub.status.idle": "2021-09-01T21:26:46.674952Z",
     "shell.execute_reply": "2021-09-01T21:26:46.674451Z",
     "shell.execute_reply.started": "2021-08-28T16:50:31.688917Z"
    },
    "papermill": {
     "duration": 0.050069,
     "end_time": "2021-09-01T21:26:46.675087",
     "exception": false,
     "start_time": "2021-09-01T21:26:46.625018",
     "status": "completed"
    },
    "tags": []
   },
   "outputs": [],
   "source": [
    "def feature_scaling(X: pd.DataFrame) -> pd.DataFrame:\n",
    "    \n",
    "    \"\"\" Normalises the features in X (dataframe) and returns a normalized version of X where the mean value of each feature is 0 and the standard deviation is 1. \"\"\"\n",
    "    \n",
    "    # Return normalised data\n",
    "    return (X - np.mean(X, axis=0))/np.std(X, axis=0, ddof=0)"
   ]
  },
  {
   "cell_type": "markdown",
   "id": "c6c12606",
   "metadata": {
    "papermill": {
     "duration": 0.042766,
     "end_time": "2021-09-01T21:26:47.204946",
     "exception": false,
     "start_time": "2021-09-01T21:26:47.162180",
     "status": "completed"
    },
    "tags": []
   },
   "source": [
    "<hr style=\"height:2px;border-width:0;color:gray;background-color:gray\">"
   ]
  },
  {
   "cell_type": "markdown",
   "id": "ba6047d0",
   "metadata": {
    "papermill": {
     "duration": 0.043868,
     "end_time": "2021-09-01T21:26:47.119193",
     "exception": false,
     "start_time": "2021-09-01T21:26:47.075325",
     "status": "completed"
    },
    "tags": []
   },
   "source": [
    "Some comments about the code:\n",
    "\n",
    "1. Here we have created an entire python class for linear regression to make it similar to a machine learning pipeline format. If you would like to just use the functions by themselves, simply take them from the individual sections.\n",
    "2. We have only dealt with 1 feature in this dataset (simple linear regression) - a mult-linear regression may not yield the same accuracy. \n",
    "3. We have not actually used the cost function as a means to optimise the model - we have simply used the normal equations to obtain our estimates.\n",
    "3. Two alternative methods to solve linear regression problems are: Gradient Descent (Smart Search) (which uses the cost function as an objective function) and Grid Search (Brute Force)."
   ]
  },
  {
   "cell_type": "markdown",
   "id": "5ea19fd4",
   "metadata": {
    "papermill": {
     "duration": 0.04245,
     "end_time": "2021-09-01T21:26:47.291542",
     "exception": false,
     "start_time": "2021-09-01T21:26:47.249092",
     "status": "completed"
    },
    "tags": []
   },
   "source": [
    "Thank you for reading this notebook. If there are any mistakes or things that need more clarity, feel free to email sidnath01@hotmail.com and I will be happy to reply. \n",
    "Additionally, it would be helpful if you cite this documentation if you are going to use any of the code. 😊\n",
    "\n",
    "© _PolyNath 2023_"
   ]
  },
  {
   "cell_type": "markdown",
   "id": "dea1bed6",
   "metadata": {},
   "source": [
    "<center> <h1> Code With Sid </h1> </center> "
   ]
  }
 ],
 "metadata": {
  "kernelspec": {
   "display_name": "Python 3 (ipykernel)",
   "language": "python",
   "name": "python3"
  },
  "language_info": {
   "codemirror_mode": {
    "name": "ipython",
    "version": 3
   },
   "file_extension": ".py",
   "mimetype": "text/x-python",
   "name": "python",
   "nbconvert_exporter": "python",
   "pygments_lexer": "ipython3",
   "version": "3.9.13"
  },
  "papermill": {
   "default_parameters": {},
   "duration": 15.62748,
   "end_time": "2021-09-01T21:26:48.044689",
   "environment_variables": {},
   "exception": null,
   "input_path": "__notebook__.ipynb",
   "output_path": "__notebook__.ipynb",
   "parameters": {},
   "start_time": "2021-09-01T21:26:32.417209",
   "version": "2.3.3"
  }
 },
 "nbformat": 4,
 "nbformat_minor": 5
}
